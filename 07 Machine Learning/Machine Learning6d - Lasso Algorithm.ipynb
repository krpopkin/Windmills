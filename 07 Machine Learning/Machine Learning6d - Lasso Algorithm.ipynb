{
 "cells": [
  {
   "cell_type": "markdown",
   "metadata": {},
   "source": [
    "<div class=\"span5 alert alert-success\">\n",
    "<p> This workbook runs a Lasso Regression for various windfarm machine learning datasets </p>\n",
    "</div>"
   ]
  },
  {
   "cell_type": "markdown",
   "metadata": {},
   "source": [
    "<div class=\"span5 alert alert-success\">\n",
    "<p> Prep </p>\n",
    "</div>"
   ]
  },
  {
   "cell_type": "code",
   "execution_count": 19,
   "metadata": {},
   "outputs": [],
   "source": [
    "import warnings\n",
    "warnings.filterwarnings('ignore')"
   ]
  },
  {
   "cell_type": "code",
   "execution_count": 20,
   "metadata": {},
   "outputs": [
    {
     "name": "stdout",
     "output_type": "stream",
     "text": [
      "C:\\Users\\Ken\\Documents\\KenP\\Applications-DataScience\\SpringboardCourseWork\\CapstoneProject1Repository\\09 CapstoneProject1Data\\MachineLearningData\n"
     ]
    }
   ],
   "source": [
    "%cd C:\\Users\\Ken\\Documents\\KenP\\Applications-DataScience\\SpringboardCourseWork\\CapstoneProject1Repository\\09 CapstoneProject1Data\\MachineLearningData"
   ]
  },
  {
   "cell_type": "code",
   "execution_count": 21,
   "metadata": {},
   "outputs": [],
   "source": [
    "import pandas as pd\n",
    "from sklearn.model_selection import KFold\n",
    "from sklearn.model_selection import cross_val_score\n",
    "from sklearn.linear_model import Lasso\n",
    "import matplotlib.pyplot as plt"
   ]
  },
  {
   "cell_type": "code",
   "execution_count": 22,
   "metadata": {},
   "outputs": [],
   "source": [
    "#Function to build the model\n",
    "def BuildAndFitModel(model_type, df, x, y):\n",
    "    array = df.values\n",
    "    X = array[:,0:x]\n",
    "    Y = array[:,y]\n",
    "    kfold = KFold(n_splits=5, random_state=7)\n",
    "    model = model_type\n",
    "    \n",
    "    model.fit(X,Y)\n",
    "    model_score = model.score(X,Y)\n",
    "    \n",
    "    print('model score: ' + str(model_score))\n",
    "    \n",
    "    scoring = 'neg_mean_squared_error'\n",
    "    model_cv_scores = cross_val_score(model, X, Y, cv = kfold, scoring=scoring)\n",
    "    print('model score with cross validation: ' + str(model_cv_scores))\n",
    "    \n",
    "    print('model score with cross validation mean: ' + str(model_cv_scores.mean()))\n",
    "    \n",
    "    lasso_coef = lasso.coef_\n",
    "    \n",
    "    return [model_score, model_cv_scores,lasso_coef]"
   ]
  },
  {
   "cell_type": "code",
   "execution_count": 23,
   "metadata": {},
   "outputs": [],
   "source": [
    "#Function to plot coefficients\n",
    "def PlotCoefficients(featurescount, model,title):\n",
    "    plt.plot(range(0,featurescount), model)\n",
    "    plt.xticks(range(0,featurescount), rotation=60)\n",
    "    plt.margins(0.02)\n",
    "    plt.title('Correlation Coefficients for ' + str(title))\n",
    "    \n",
    "    return plt"
   ]
  },
  {
   "cell_type": "markdown",
   "metadata": {},
   "source": [
    "<div class=\"span5 alert alert-success\">\n",
    "<p> Using zip codes (count: 21) with 2009 - 2017 housing data available </p>\n",
    "</div>"
   ]
  },
  {
   "cell_type": "code",
   "execution_count": 24,
   "metadata": {},
   "outputs": [
    {
     "name": "stdout",
     "output_type": "stream",
     "text": [
      "Model 2009 Results\n",
      "model score: 0.029795183478338205\n",
      "model score with cross validation: [-0.01221435 -0.00437783 -0.0021052  -0.00442849 -0.00481776]\n",
      "model score with cross validation mean: -0.005588725060206759\n"
     ]
    }
   ],
   "source": [
    "dfin = pd.read_csv('project1_machine_learning_input_starting_2009.csv')\n",
    "\n",
    "df = dfin[['pop_density','med_household_income','Has_Windfarm', 'percent_higher_ed',\n",
    "              'percent_2010_change','percent_2011_change','percent_2012_change',\n",
    "              'percent_2013_change','percent_2014_change','percent_2015_change','percent_2016_change',\n",
    "              'percent_2017_change','percent_2018_change']]\n",
    "\n",
    "lasso = Lasso()\n",
    "#lasso = Lasso(alpha=0.4, normalize=True)\n",
    "\n",
    "print('Model 2009 Results')\n",
    "model2009 = BuildAndFitModel(lasso, df, 12, 12)"
   ]
  },
  {
   "cell_type": "code",
   "execution_count": 25,
   "metadata": {},
   "outputs": [
    {
     "data": {
      "image/png": "[encoded data removed]",
      "text/plain": [
       "<Figure size 432x288 with 1 Axes>"
      ]
     },
     "metadata": {},
     "output_type": "display_data"
    }
   ],
   "source": [
    "#Plot the coefficients to see which features have highest value\n",
    "coef_values = model2009[2]\n",
    "featurescount = len(df.columns) - 1\n",
    "title = 'Model 2009'\n",
    "\n",
    "plt = PlotCoefficients(featurescount, coef_values,title)"
   ]
  },
  {
   "cell_type": "markdown",
   "metadata": {},
   "source": [
    "<div class=\"span5 alert alert-success\">\n",
    "<p> Using zip codes (count: 48) with 2014 - 2017 housing data available </p>\n",
    "</div>"
   ]
  },
  {
   "cell_type": "code",
   "execution_count": 26,
   "metadata": {},
   "outputs": [
    {
     "name": "stdout",
     "output_type": "stream",
     "text": [
      "Model 2014 Results\n",
      "model score: 0.02796318303035727\n",
      "model score with cross validation: [-0.01300961 -0.00268227 -0.00549396 -0.01062491 -0.00677944]\n",
      "model score with cross validation mean: -0.007718039478604608\n"
     ]
    }
   ],
   "source": [
    "dfin = pd.read_csv('project1_machine_learning_input_starting_2014.csv')\n",
    "\n",
    "df = dfin[['pop_density','med_household_income','Has_Windfarm', 'percent_higher_ed',\n",
    "           'percent_2015_change','percent_2016_change',\n",
    "           'percent_2017_change','percent_2018_change']]\n",
    "\n",
    "print('Model 2014 Results')\n",
    "model2014 = BuildAndFitModel(lasso, df, 7, 7)"
   ]
  },
  {
   "cell_type": "code",
   "execution_count": 27,
   "metadata": {},
   "outputs": [
    {
     "data": {
      "image/png": "[encoded data removed]",
      "text/plain": [
       "<Figure size 432x288 with 1 Axes>"
      ]
     },
     "metadata": {},
     "output_type": "display_data"
    }
   ],
   "source": [
    "#Plot the coefficients to see which features have highest value\n",
    "coef_values = model2014[2]\n",
    "featurescount = len(df.columns) - 1\n",
    "title = 'Model 2014'\n",
    "\n",
    "plt = PlotCoefficients(featurescount, coef_values,title)"
   ]
  },
  {
   "cell_type": "markdown",
   "metadata": {},
   "source": [
    "<div class=\"span5 alert alert-success\">\n",
    "<p> Using zip codes (count: 21) with 2009 - 2017 housing data available, but only using population density,\n",
    "    percent higher ed, Has_Windfarm, and median household income in the model</p>\n",
    "</div>"
   ]
  },
  {
   "cell_type": "code",
   "execution_count": 28,
   "metadata": {},
   "outputs": [
    {
     "name": "stdout",
     "output_type": "stream",
     "text": [
      "Model 2009 Results with only pop density, median income, has windfarm, and percent higher ed\n",
      "model score: 0.029795183478338205\n",
      "model score with cross validation: [-0.01221435 -0.00437783 -0.0021052  -0.00442849 -0.00481776]\n",
      "model score with cross validation mean: -0.005588725060206759\n"
     ]
    }
   ],
   "source": [
    "dfin = pd.read_csv('project1_machine_learning_input_starting_2009.csv')\n",
    "\n",
    "df = dfin[['pop_density','med_household_income','Has_Windfarm', 'percent_higher_ed','percent_2018_change']]\n",
    "\n",
    "print('Model 2009 Results with only pop density, median income, has windfarm, and percent higher ed')\n",
    "\n",
    "model2009b = BuildAndFitModel(lasso, df, 4, 4)"
   ]
  },
  {
   "cell_type": "markdown",
   "metadata": {},
   "source": []
  },
  {
   "cell_type": "code",
   "execution_count": 29,
   "metadata": {},
   "outputs": [
    {
     "data": {
      "image/png": "[encoded data removed]",
      "text/plain": [
       "<Figure size 432x288 with 1 Axes>"
      ]
     },
     "metadata": {},
     "output_type": "display_data"
    }
   ],
   "source": [
    "#Plot the coefficients to see which features have highest value\n",
    "coef_values = model2009b[2]\n",
    "featurescount = len(df.columns) - 1\n",
    "title = 'Model2009b'\n",
    "\n",
    "plt = PlotCoefficients(featurescount, coef_values,title)"
   ]
  },
  {
   "cell_type": "markdown",
   "metadata": {},
   "source": [
    "<div class=\"span5 alert alert-success\">\n",
    "<b> Lasso Conclusions </b>\n",
    "    <p>Using three different test datasets (years 2009 - 2017, years 2014 - 2017, and no housing values) produces almost \n",
    "    identical results for the three datasets. <br> <br>\n",
    "    Lasso appears to produce the best results (mean squared error of 0) of the four algorithms. <br><br>\n",
    "    The feature contributing the greatest value to the model appears to be population density, followed by median household\n",
    "    income.\n",
    "</p>\n",
    "</div>"
   ]
  }
 ],
 "metadata": {
  "kernelspec": {
   "display_name": "Python 3",
   "language": "python",
   "name": "python3"
  },
  "language_info": {
   "codemirror_mode": {
    "name": "ipython",
    "version": 3
   },
   "file_extension": ".py",
   "mimetype": "text/x-python",
   "name": "python",
   "nbconvert_exporter": "python",
   "pygments_lexer": "ipython3",
   "version": "3.6.5"
  }
 },
 "nbformat": 4,
 "nbformat_minor": 2
}
