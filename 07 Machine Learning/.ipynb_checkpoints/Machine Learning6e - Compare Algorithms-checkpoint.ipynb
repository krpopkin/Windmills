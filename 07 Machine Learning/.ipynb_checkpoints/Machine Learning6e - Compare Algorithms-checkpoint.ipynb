{
 "cells": [
  {
   "cell_type": "markdown",
   "metadata": {},
   "source": [
    "<div class=\"span5 alert alert-success\">\n",
    "<p> This workbook compares the Decision Tree, Random Forest, Ridge, and Lasso algorithms via box plots to assess\n",
    "which algorithm appears to be performing the best</p>\n",
    "</div>"
   ]
  },
  {
   "cell_type": "markdown",
   "metadata": {},
   "source": [
    "<div class=\"span5 alert alert-success\">\n",
    "<p> Prep </p>\n",
    "</div>"
   ]
  },
  {
   "cell_type": "code",
   "execution_count": 1,
   "metadata": {},
   "outputs": [],
   "source": [
    "import warnings\n",
    "warnings.filterwarnings('ignore')"
   ]
  },
  {
   "cell_type": "code",
   "execution_count": 2,
   "metadata": {},
   "outputs": [
    {
     "name": "stdout",
     "output_type": "stream",
     "text": [
      "C:\\Users\\Ken\\Documents\\KenP\\Applications-DataScience\\SpringboardCourseWork\\CapstoneProject1Repository\\09 CapstoneProject1Data\\MachineLearningData\n"
     ]
    }
   ],
   "source": [
    "%cd C:\\Users\\Ken\\Documents\\KenP\\Applications-DataScience\\SpringboardCourseWork\\CapstoneProject1Repository\\09 CapstoneProject1Data\\MachineLearningData"
   ]
  },
  {
   "cell_type": "code",
   "execution_count": 3,
   "metadata": {},
   "outputs": [],
   "source": [
    "import pandas as pd\n",
    "from sklearn.model_selection import KFold\n",
    "from sklearn.model_selection import cross_val_score\n",
    "import matplotlib.pyplot as plt\n",
    "from sklearn.tree import DecisionTreeRegressor\n",
    "from sklearn.ensemble import RandomForestRegressor\n",
    "from sklearn.linear_model import Ridge\n",
    "from sklearn.linear_model import Lasso"
   ]
  },
  {
   "cell_type": "markdown",
   "metadata": {},
   "source": [
    "<div class=\"span5 alert alert-success\">\n",
    "<p> Compare the algorithms using zip codes (count: 21) with 2009 - 2017 housing data available </p>\n",
    "</div>"
   ]
  },
  {
   "cell_type": "code",
   "execution_count": 4,
   "metadata": {},
   "outputs": [
    {
     "name": "stdout",
     "output_type": "stream",
     "text": [
      "Model 2009 Results\n"
     ]
    }
   ],
   "source": [
    "dfin = pd.read_csv('project1_machine_learning_input_starting_2009.csv')\n",
    "\n",
    "df = dfin[['pop_density','med_household_income','Has_Windfarm', 'percent_higher_ed',\n",
    "              'percent_2010_change','percent_2011_change','percent_2012_change',\n",
    "              'percent_2013_change','percent_2014_change','percent_2015_change','percent_2016_change',\n",
    "              'percent_2017_change','percent_2018_change']]\n",
    "\n",
    "print('Model 2009 Results')"
   ]
  },
  {
   "cell_type": "code",
   "execution_count": 5,
   "metadata": {},
   "outputs": [
    {
     "name": "stdout",
     "output_type": "stream",
     "text": [
      "Decision Tree: -1.905046 (1.225340)\n",
      "Random Forest: -1.135407 (1.678354)\n",
      "Ridge: -3.063320 (2.793926)\n",
      "Lasso: -1.641426 (1.587947)\n"
     ]
    },
    {
     "data": {
      "image/png": "[encoded data removed]",
      "text/plain": [
       "<Figure size 432x288 with 1 Axes>"
      ]
     },
     "metadata": {},
     "output_type": "display_data"
    }
   ],
   "source": [
    "#Setup the array\n",
    "array = df.values\n",
    "X = array[:,0:12]\n",
    "Y = array[:,12]\n",
    "\n",
    "# prepare models\n",
    "models = []\n",
    "models.append(('Decision Tree', DecisionTreeRegressor()))\n",
    "models.append(('Random Forest', RandomForestRegressor()))\n",
    "models.append(('Ridge', Ridge()))\n",
    "models.append(('Lasso', Lasso()))\n",
    "\n",
    "# evaluate each model\n",
    "results = []\n",
    "names = []\n",
    "for name, model in models:\n",
    "    kfold = KFold(n_splits=5, random_state=7)\n",
    "    cv_results = cross_val_score(model, X, Y, cv=kfold)\n",
    "\n",
    "    results.append(cv_results)\n",
    "    names.append(name)\n",
    "    msg = \"%s: %f (%f)\" % (name, cv_results.mean(), cv_results.std())\n",
    "    \n",
    "    print(msg)\n",
    "\n",
    "# boxplot algorithm comparison\n",
    "fig = plt.figure()\n",
    "fig.suptitle('Algorithm Comparison')\n",
    "ax = fig.add_subplot(111)\n",
    "plt.boxplot(results)\n",
    "ax.set_xticklabels(names)\n",
    "ax.set_xlabel('Algorithm')\n",
    "ax.set_ylabel('MSE across five folds')\n",
    "plt.show()"
   ]
  },
  {
   "cell_type": "markdown",
   "metadata": {},
   "source": [
    "<div class=\"span5 alert alert-success\">\n",
    "<b> Observations: </b>\n",
    "    <p>\n",
    "    •\tAll the algorithms produce a similar top, but Random Forest and Lasso appear to be the best models to use for further analysis.  They have the highest top and a much tighter range than Ridge or Decision Tree. <br><br>\n",
    "•\tRandom Forest’s plot is short and Lasso has very short whiskers indicating a high level of agreement on home value predictions across zip codes.<br><br>\n",
    "•\tHeight of the Decision Tree and Ridge plots are similar, and are much greater than Random Forest and Lasso.  This lends further support to not continuing with the Decision Tree and Ridge algorithms.<br><br>\n",
    "•\tThe medians of Decision Tree, Random Forest, and Lasso are very similar, but the size of their box plot varies, showing a much higher variance in the Decision Tree results.  \n",
    "\n",
    "</p>\n",
    "</div>"
   ]
  }
 ],
 "metadata": {
  "kernelspec": {
   "display_name": "Python 3",
   "language": "python",
   "name": "python3"
  },
  "language_info": {
   "codemirror_mode": {
    "name": "ipython",
    "version": 3
   },
   "file_extension": ".py",
   "mimetype": "text/x-python",
   "name": "python",
   "nbconvert_exporter": "python",
   "pygments_lexer": "ipython3",
   "version": "3.7.3"
  }
 },
 "nbformat": 4,
 "nbformat_minor": 2
}
