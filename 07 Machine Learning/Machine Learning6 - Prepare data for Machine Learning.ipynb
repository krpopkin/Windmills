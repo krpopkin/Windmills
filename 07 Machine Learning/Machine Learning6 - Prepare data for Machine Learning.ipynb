{
 "cells": [
  {
   "cell_type": "markdown",
   "metadata": {},
   "source": [
    "<div class=\"span5 alert alert-success\">\n",
    "<p> This workbook creates a dataset consisting of zip codes with windfarms and zip codes without windfarms. \n",
    "Also, a column that designates if the zipcode does or doesn't have a windfarm is added, along with a new feature representing education level </p>\n",
    "</div>"
   ]
  },
  {
   "cell_type": "markdown",
   "metadata": {},
   "source": [
    "<div class=\"span5 alert alert-success\">\n",
    "<p> Prepare </p>\n",
    "</div>"
   ]
  },
  {
   "cell_type": "code",
   "execution_count": 1,
   "metadata": {},
   "outputs": [],
   "source": [
    "import warnings\n",
    "warnings.filterwarnings('ignore')"
   ]
  },
  {
   "cell_type": "code",
   "execution_count": 2,
   "metadata": {},
   "outputs": [],
   "source": [
    "#Imports\n",
    "import pandas as pd\n",
    "from uszipcode import SearchEngine\n",
    "import geopy.distance\n",
    "import numpy as np"
   ]
  },
  {
   "cell_type": "code",
   "execution_count": 3,
   "metadata": {},
   "outputs": [],
   "source": [
    "#Load the zip code database (https://pypi.org/project/uszipcode/)\n",
    "search = SearchEngine(simple_zipcode=False)"
   ]
  },
  {
   "cell_type": "code",
   "execution_count": 4,
   "metadata": {},
   "outputs": [],
   "source": [
    "#function to calculate distance between geocodes - this will be used to obtain zipcodes without windfarms located approximately\n",
    "#25 miles from a zipcode with a windfarm\n",
    "\n",
    "def distance(lat1, long1, lat2, long2):\n",
    "    coords_1 = (lat1, long1)\n",
    "    coords_2 = (lat2, long2)\n",
    "    \n",
    "    d = geopy.distance.distance(coords_1, coords_2).miles\n",
    "            \n",
    "    return d"
   ]
  },
  {
   "cell_type": "code",
   "execution_count": 5,
   "metadata": {},
   "outputs": [
    {
     "name": "stdout",
     "output_type": "stream",
     "text": [
      "C:\\Users\\Ken\\Documents\\KenP\\Applications-DataScience\\SpringboardCourseWork\\CapstoneProject1Repository\\09 CapstoneProject1Data\\ZillowData\n"
     ]
    },
    {
     "data": {
      "text/html": [
       "<div>\n",
       "<style scoped>\n",
       "    .dataframe tbody tr th:only-of-type {\n",
       "        vertical-align: middle;\n",
       "    }\n",
       "\n",
       "    .dataframe tbody tr th {\n",
       "        vertical-align: top;\n",
       "    }\n",
       "\n",
       "    .dataframe thead th {\n",
       "        text-align: right;\n",
       "    }\n",
       "</style>\n",
       "<table border=\"1\" class=\"dataframe\">\n",
       "  <thead>\n",
       "    <tr style=\"text-align: right;\">\n",
       "      <th></th>\n",
       "      <th>Unnamed: 0</th>\n",
       "      <th>ZipCode</th>\n",
       "      <th>StateName</th>\n",
       "      <th>2008-03</th>\n",
       "      <th>2008-04</th>\n",
       "      <th>2008-05</th>\n",
       "      <th>2008-06</th>\n",
       "      <th>2008-07</th>\n",
       "      <th>2008-08</th>\n",
       "      <th>2008-09</th>\n",
       "      <th>...</th>\n",
       "      <th>2017-11</th>\n",
       "      <th>2017-12</th>\n",
       "      <th>2018-01</th>\n",
       "      <th>2018-02</th>\n",
       "      <th>2018-03</th>\n",
       "      <th>2018-04</th>\n",
       "      <th>2018-05</th>\n",
       "      <th>2018-06</th>\n",
       "      <th>2018-07</th>\n",
       "      <th>2018-08</th>\n",
       "    </tr>\n",
       "  </thead>\n",
       "  <tbody>\n",
       "    <tr>\n",
       "      <th>3082</th>\n",
       "      <td>3082</td>\n",
       "      <td>1001</td>\n",
       "      <td>Massachusetts</td>\n",
       "      <td>NaN</td>\n",
       "      <td>NaN</td>\n",
       "      <td>NaN</td>\n",
       "      <td>NaN</td>\n",
       "      <td>NaN</td>\n",
       "      <td>NaN</td>\n",
       "      <td>NaN</td>\n",
       "      <td>...</td>\n",
       "      <td>198400.0</td>\n",
       "      <td>190500.0</td>\n",
       "      <td>166700.0</td>\n",
       "      <td>163700.0</td>\n",
       "      <td>155200.0</td>\n",
       "      <td>177100.0</td>\n",
       "      <td>182800.0</td>\n",
       "      <td>198000.0</td>\n",
       "      <td>202700.0</td>\n",
       "      <td>NaN</td>\n",
       "    </tr>\n",
       "  </tbody>\n",
       "</table>\n",
       "<p>1 rows × 129 columns</p>\n",
       "</div>"
      ],
      "text/plain": [
       "      Unnamed: 0  ZipCode      StateName  2008-03  2008-04  2008-05  2008-06  \\\n",
       "3082        3082     1001  Massachusetts      NaN      NaN      NaN      NaN   \n",
       "\n",
       "      2008-07  2008-08  2008-09   ...      2017-11   2017-12   2018-01  \\\n",
       "3082      NaN      NaN      NaN   ...     198400.0  190500.0  166700.0   \n",
       "\n",
       "       2018-02   2018-03   2018-04   2018-05   2018-06   2018-07  2018-08  \n",
       "3082  163700.0  155200.0  177100.0  182800.0  198000.0  202700.0      NaN  \n",
       "\n",
       "[1 rows x 129 columns]"
      ]
     },
     "execution_count": 5,
     "metadata": {},
     "output_type": "execute_result"
    }
   ],
   "source": [
    "#Load the cleaned zillow csv file to a dataframe\n",
    "%cd C:\\Users\\Ken\\Documents\\KenP\\Applications-DataScience\\SpringboardCourseWork\\CapstoneProject1Repository\\09 CapstoneProject1Data\\ZillowData\n",
    "\n",
    "df_zi = pd.read_csv('project1_housing_data.csv')\n",
    "\n",
    "df_zi = df_zi.sort_values(by=['ZipCode'])\n",
    "\n",
    "df_zi.head(1)"
   ]
  },
  {
   "cell_type": "code",
   "execution_count": 6,
   "metadata": {},
   "outputs": [
    {
     "name": "stdout",
     "output_type": "stream",
     "text": [
      "C:\\Users\\Ken\\Documents\\KenP\\Applications-DataScience\\SpringboardCourseWork\\CapstoneProject1Repository\\09 CapstoneProject1Data\\MergedData\n"
     ]
    },
    {
     "data": {
      "text/html": [
       "<div>\n",
       "<style scoped>\n",
       "    .dataframe tbody tr th:only-of-type {\n",
       "        vertical-align: middle;\n",
       "    }\n",
       "\n",
       "    .dataframe tbody tr th {\n",
       "        vertical-align: top;\n",
       "    }\n",
       "\n",
       "    .dataframe thead th {\n",
       "        text-align: right;\n",
       "    }\n",
       "</style>\n",
       "<table border=\"1\" class=\"dataframe\">\n",
       "  <thead>\n",
       "    <tr style=\"text-align: right;\">\n",
       "      <th></th>\n",
       "      <th>Unnamed: 0</th>\n",
       "      <th>state</th>\n",
       "      <th>county</th>\n",
       "      <th>fips</th>\n",
       "      <th>project_name</th>\n",
       "      <th>project_op_year</th>\n",
       "      <th>windmills_count</th>\n",
       "      <th>capacity</th>\n",
       "      <th>longitude</th>\n",
       "      <th>latitude</th>\n",
       "      <th>...</th>\n",
       "      <th>2017-11</th>\n",
       "      <th>2017-12</th>\n",
       "      <th>2018-01</th>\n",
       "      <th>2018-02</th>\n",
       "      <th>2018-03</th>\n",
       "      <th>2018-04</th>\n",
       "      <th>2018-05</th>\n",
       "      <th>2018-06</th>\n",
       "      <th>2018-07</th>\n",
       "      <th>2018-08</th>\n",
       "    </tr>\n",
       "  </thead>\n",
       "  <tbody>\n",
       "    <tr>\n",
       "      <th>0</th>\n",
       "      <td>0</td>\n",
       "      <td>MA</td>\n",
       "      <td>Worcester County</td>\n",
       "      <td>25027</td>\n",
       "      <td>Nature's Classroom Wind Turbine</td>\n",
       "      <td>2009</td>\n",
       "      <td>1</td>\n",
       "      <td>0.1</td>\n",
       "      <td>-72.003899</td>\n",
       "      <td>42.110889</td>\n",
       "      <td>...</td>\n",
       "      <td>290300.0</td>\n",
       "      <td>279200.0</td>\n",
       "      <td>276000.0</td>\n",
       "      <td>252000.0</td>\n",
       "      <td>244500.0</td>\n",
       "      <td>259900.0</td>\n",
       "      <td>287800.0</td>\n",
       "      <td>295100.0</td>\n",
       "      <td>289100.0</td>\n",
       "      <td>NaN</td>\n",
       "    </tr>\n",
       "  </tbody>\n",
       "</table>\n",
       "<p>1 rows × 142 columns</p>\n",
       "</div>"
      ],
      "text/plain": [
       "   Unnamed: 0 state            county   fips                     project_name  \\\n",
       "0           0    MA  Worcester County  25027  Nature's Classroom Wind Turbine   \n",
       "\n",
       "   project_op_year  windmills_count  capacity  longitude   latitude   ...     \\\n",
       "0             2009                1       0.1 -72.003899  42.110889   ...      \n",
       "\n",
       "    2017-11   2017-12   2018-01   2018-02   2018-03   2018-04   2018-05  \\\n",
       "0  290300.0  279200.0  276000.0  252000.0  244500.0  259900.0  287800.0   \n",
       "\n",
       "    2018-06   2018-07  2018-08  \n",
       "0  295100.0  289100.0      NaN  \n",
       "\n",
       "[1 rows x 142 columns]"
      ]
     },
     "execution_count": 6,
     "metadata": {},
     "output_type": "execute_result"
    }
   ],
   "source": [
    "#Load the merged windfarm and zillow csv file to a dataframe\n",
    "%cd C:\\Users\\Ken\\Documents\\KenP\\Applications-DataScience\\SpringboardCourseWork\\CapstoneProject1Repository\\09 CapstoneProject1Data\\MergedData\n",
    "\n",
    "df_me = pd.read_csv('merged_wi_and_zi.csv')\n",
    "\n",
    "df_me.head(1)"
   ]
  },
  {
   "cell_type": "markdown",
   "metadata": {},
   "source": [
    "<div class=\"span5 alert alert-success\">\n",
    "<p> Create the dataframe for zipcodes WITH windfarms. </p>\n",
    "</div>"
   ]
  },
  {
   "cell_type": "code",
   "execution_count": 7,
   "metadata": {},
   "outputs": [
    {
     "data": {
      "text/html": [
       "<div>\n",
       "<style scoped>\n",
       "    .dataframe tbody tr th:only-of-type {\n",
       "        vertical-align: middle;\n",
       "    }\n",
       "\n",
       "    .dataframe tbody tr th {\n",
       "        vertical-align: top;\n",
       "    }\n",
       "\n",
       "    .dataframe thead th {\n",
       "        text-align: right;\n",
       "    }\n",
       "</style>\n",
       "<table border=\"1\" class=\"dataframe\">\n",
       "  <thead>\n",
       "    <tr style=\"text-align: right;\">\n",
       "      <th></th>\n",
       "      <th>wf_zipcode</th>\n",
       "      <th>state</th>\n",
       "      <th>county</th>\n",
       "      <th>latitude</th>\n",
       "      <th>longitude</th>\n",
       "      <th>windmills_count</th>\n",
       "      <th>pop_density</th>\n",
       "      <th>med_household_income</th>\n",
       "      <th>zipcode_withno_wf</th>\n",
       "      <th>distance_from_wfzipcode</th>\n",
       "    </tr>\n",
       "  </thead>\n",
       "  <tbody>\n",
       "    <tr>\n",
       "      <th>0</th>\n",
       "      <td>1507</td>\n",
       "      <td>MA</td>\n",
       "      <td>Worcester County</td>\n",
       "      <td>42.110889</td>\n",
       "      <td>-72.003899</td>\n",
       "      <td>1</td>\n",
       "      <td>308</td>\n",
       "      <td>93963.0</td>\n",
       "      <td>NaN</td>\n",
       "      <td>0</td>\n",
       "    </tr>\n",
       "  </tbody>\n",
       "</table>\n",
       "</div>"
      ],
      "text/plain": [
       "   wf_zipcode state            county   latitude  longitude  windmills_count  \\\n",
       "0        1507    MA  Worcester County  42.110889 -72.003899                1   \n",
       "\n",
       "   pop_density  med_household_income  zipcode_withno_wf  \\\n",
       "0          308               93963.0                NaN   \n",
       "\n",
       "   distance_from_wfzipcode  \n",
       "0                        0  "
      ]
     },
     "execution_count": 7,
     "metadata": {},
     "output_type": "execute_result"
    }
   ],
   "source": [
    "#Filter merged dataframe from 13 states to 5 (CA, MA, MN, OH, RI).  Then filter out all the duplicate zipcode records by\n",
    "#keeping only the first record of each zipcode (note: each row in the file is a single windmill in a wind farm)\n",
    "\n",
    "df_me2 = df_me[(df_me.state == 'CA') | (df_me.state == 'MA') | (df_me.state == 'MN') | (df_me.state == 'OH') |\n",
    "               (df_me.state == 'RI')]\n",
    "\n",
    "df_me3 = df_me2.drop_duplicates(subset='zipcode', keep='first')\n",
    "\n",
    "df_me4 = df_me3[['zipcode','state','county','latitude','longitude','windmills_count','pop_density','med_household_income']]\n",
    "\n",
    "df_me4 = df_me4.rename(columns = {'zipcode':'wf_zipcode'})\n",
    "\n",
    "df_me4['zipcode_withno_wf'] = np.nan\n",
    "\n",
    "df_me4['distance_from_wfzipcode'] = 0\n",
    "\n",
    "df_me4.head(1)"
   ]
  },
  {
   "cell_type": "code",
   "execution_count": 8,
   "metadata": {},
   "outputs": [
    {
     "data": {
      "text/html": [
       "<div>\n",
       "<style scoped>\n",
       "    .dataframe tbody tr th:only-of-type {\n",
       "        vertical-align: middle;\n",
       "    }\n",
       "\n",
       "    .dataframe tbody tr th {\n",
       "        vertical-align: top;\n",
       "    }\n",
       "\n",
       "    .dataframe thead th {\n",
       "        text-align: right;\n",
       "    }\n",
       "</style>\n",
       "<table border=\"1\" class=\"dataframe\">\n",
       "  <thead>\n",
       "    <tr style=\"text-align: right;\">\n",
       "      <th></th>\n",
       "      <th>wf_zipcode</th>\n",
       "      <th>state</th>\n",
       "      <th>county</th>\n",
       "      <th>latitude</th>\n",
       "      <th>longitude</th>\n",
       "      <th>windmills_count</th>\n",
       "      <th>pop_density</th>\n",
       "      <th>med_household_income</th>\n",
       "      <th>zipcode_withno_wf</th>\n",
       "      <th>distance_from_wfzipcode</th>\n",
       "      <th>...</th>\n",
       "      <th>2018-01</th>\n",
       "      <th>percent_2010_change</th>\n",
       "      <th>percent_2011_change</th>\n",
       "      <th>percent_2012_change</th>\n",
       "      <th>percent_2013_change</th>\n",
       "      <th>percent_2014_change</th>\n",
       "      <th>percent_2015_change</th>\n",
       "      <th>percent_2016_change</th>\n",
       "      <th>percent_2017_change</th>\n",
       "      <th>percent_2018_change</th>\n",
       "    </tr>\n",
       "  </thead>\n",
       "  <tbody>\n",
       "    <tr>\n",
       "      <th>0</th>\n",
       "      <td>1507</td>\n",
       "      <td>MA</td>\n",
       "      <td>Worcester County</td>\n",
       "      <td>42.110889</td>\n",
       "      <td>-72.003899</td>\n",
       "      <td>1</td>\n",
       "      <td>308</td>\n",
       "      <td>93963.0</td>\n",
       "      <td>NaN</td>\n",
       "      <td>0</td>\n",
       "      <td>...</td>\n",
       "      <td>276000.0</td>\n",
       "      <td>NaN</td>\n",
       "      <td>NaN</td>\n",
       "      <td>NaN</td>\n",
       "      <td>NaN</td>\n",
       "      <td>NaN</td>\n",
       "      <td>NaN</td>\n",
       "      <td>NaN</td>\n",
       "      <td>0.002946</td>\n",
       "      <td>0.013216</td>\n",
       "    </tr>\n",
       "  </tbody>\n",
       "</table>\n",
       "<p>1 rows × 32 columns</p>\n",
       "</div>"
      ],
      "text/plain": [
       "   wf_zipcode state            county   latitude  longitude  windmills_count  \\\n",
       "0        1507    MA  Worcester County  42.110889 -72.003899                1   \n",
       "\n",
       "   pop_density  med_household_income  zipcode_withno_wf  \\\n",
       "0          308               93963.0                NaN   \n",
       "\n",
       "   distance_from_wfzipcode         ...            2018-01  \\\n",
       "0                        0         ...           276000.0   \n",
       "\n",
       "   percent_2010_change percent_2011_change  percent_2012_change  \\\n",
       "0                  NaN                 NaN                  NaN   \n",
       "\n",
       "   percent_2013_change  percent_2014_change  percent_2015_change  \\\n",
       "0                  NaN                  NaN                  NaN   \n",
       "\n",
       "   percent_2016_change  percent_2017_change  percent_2018_change  \n",
       "0                  NaN             0.002946             0.013216  \n",
       "\n",
       "[1 rows x 32 columns]"
      ]
     },
     "execution_count": 8,
     "metadata": {},
     "output_type": "execute_result"
    }
   ],
   "source": [
    "#Merge the zipcodes with windfarms and zillow dataframes on zip code, as inner join.\n",
    "df_stats = pd.merge(left=df_me4, right=df_zi, on=None, left_on='wf_zipcode', right_on='ZipCode')\n",
    "\n",
    "#Backfill years with no home value data with the closest year in the row that has data\n",
    "#df_stats = df_stats.fillna(axis='columns',method='bfill')\n",
    "\n",
    "#Only the main columns and the home value in January of years 2009 - 2018 is needed (annual change in value)\n",
    "df_stats = df_stats.iloc[:, np.r_[0:13,23,35,47,59,71,83,95,107,119,131]]\n",
    "\n",
    "#Calculate the annual change in home value as a percentage\n",
    "df_stats['percent_2010_change'] = (df_stats['2010-01']/df_stats['2009-01']) - 1\n",
    "df_stats['percent_2011_change'] = (df_stats['2011-01']/df_stats['2010-01']) - 1\n",
    "df_stats['percent_2012_change'] = (df_stats['2012-01']/df_stats['2011-01']) - 1\n",
    "df_stats['percent_2013_change'] = (df_stats['2013-01']/df_stats['2012-01']) - 1\n",
    "df_stats['percent_2014_change'] = (df_stats['2014-01']/df_stats['2013-01']) - 1\n",
    "df_stats['percent_2015_change'] = (df_stats['2015-01']/df_stats['2014-01']) - 1\n",
    "df_stats['percent_2016_change'] = (df_stats['2016-01']/df_stats['2015-01']) - 1\n",
    "df_stats['percent_2017_change'] = (df_stats['2017-01']/df_stats['2016-01']) - 1\n",
    "df_stats['percent_2018_change'] = (df_stats['2018-01']/df_stats['2017-01']) - 1\n",
    "\n",
    "df_stats.head(1)"
   ]
  },
  {
   "cell_type": "code",
   "execution_count": 9,
   "metadata": {},
   "outputs": [
    {
     "name": "stdout",
     "output_type": "stream",
     "text": [
      "Total windfarms: 46\n"
     ]
    },
    {
     "data": {
      "text/html": [
       "<div>\n",
       "<style scoped>\n",
       "    .dataframe tbody tr th:only-of-type {\n",
       "        vertical-align: middle;\n",
       "    }\n",
       "\n",
       "    .dataframe tbody tr th {\n",
       "        vertical-align: top;\n",
       "    }\n",
       "\n",
       "    .dataframe thead th {\n",
       "        text-align: right;\n",
       "    }\n",
       "</style>\n",
       "<table border=\"1\" class=\"dataframe\">\n",
       "  <thead>\n",
       "    <tr style=\"text-align: right;\">\n",
       "      <th></th>\n",
       "      <th>wf_zipcode</th>\n",
       "    </tr>\n",
       "    <tr>\n",
       "      <th>state</th>\n",
       "      <th></th>\n",
       "    </tr>\n",
       "  </thead>\n",
       "  <tbody>\n",
       "    <tr>\n",
       "      <th>CA</th>\n",
       "      <td>19</td>\n",
       "    </tr>\n",
       "    <tr>\n",
       "      <th>MA</th>\n",
       "      <td>13</td>\n",
       "    </tr>\n",
       "    <tr>\n",
       "      <th>MN</th>\n",
       "      <td>6</td>\n",
       "    </tr>\n",
       "    <tr>\n",
       "      <th>OH</th>\n",
       "      <td>5</td>\n",
       "    </tr>\n",
       "    <tr>\n",
       "      <th>RI</th>\n",
       "      <td>3</td>\n",
       "    </tr>\n",
       "  </tbody>\n",
       "</table>\n",
       "</div>"
      ],
      "text/plain": [
       "       wf_zipcode\n",
       "state            \n",
       "CA             19\n",
       "MA             13\n",
       "MN              6\n",
       "OH              5\n",
       "RI              3"
      ]
     },
     "execution_count": 9,
     "metadata": {},
     "output_type": "execute_result"
    }
   ],
   "source": [
    "#Display a breakout by state of the number of zipcodes with windfarms\n",
    "count = df_stats.state.count()\n",
    "print('Total windfarms: ' + str(count))\n",
    "\n",
    "df_states = df_stats[['state','wf_zipcode']]\n",
    "\n",
    "state_windfarm_count = df_states.groupby(['state']).agg('count')\n",
    "state_windfarm_count\n"
   ]
  },
  {
   "cell_type": "code",
   "execution_count": 10,
   "metadata": {},
   "outputs": [],
   "source": [
    "#Add a column to this dataframe that contains a value of 1 to indicate these are zipcodes with a windfarm\n",
    "df_stats['Has_Windfarm'] = 1"
   ]
  },
  {
   "cell_type": "code",
   "execution_count": 11,
   "metadata": {},
   "outputs": [],
   "source": [
    "#Write the zipcodes with windfarms to a csv file\n",
    "#%cd C:\\Users\\Ken\\Documents\\KenP\\Applications-DataScience\\SpringboardCourseWork\\CapstoneProject1Downloads\\MachineLearningData\n",
    "\n",
    "#out_csv = 'project1_machine_learining_zipcodes_with_windfarms.csv'\n",
    "\n",
    "#df_stats.to_csv(out_csv)"
   ]
  },
  {
   "cell_type": "markdown",
   "metadata": {},
   "source": [
    "<div class=\"span5 alert alert-success\">\n",
    "<p> Create the dataframe for zipcodes WITHOUT windfarms </p>\n",
    "</div>"
   ]
  },
  {
   "cell_type": "code",
   "execution_count": 12,
   "metadata": {},
   "outputs": [
    {
     "data": {
      "text/html": [
       "<div>\n",
       "<style scoped>\n",
       "    .dataframe tbody tr th:only-of-type {\n",
       "        vertical-align: middle;\n",
       "    }\n",
       "\n",
       "    .dataframe tbody tr th {\n",
       "        vertical-align: top;\n",
       "    }\n",
       "\n",
       "    .dataframe thead th {\n",
       "        text-align: right;\n",
       "    }\n",
       "</style>\n",
       "<table border=\"1\" class=\"dataframe\">\n",
       "  <thead>\n",
       "    <tr style=\"text-align: right;\">\n",
       "      <th></th>\n",
       "      <th>wf_zipcode</th>\n",
       "      <th>state</th>\n",
       "      <th>county</th>\n",
       "      <th>latitude</th>\n",
       "      <th>longitude</th>\n",
       "      <th>windmills_count</th>\n",
       "      <th>pop_density</th>\n",
       "      <th>med_household_income</th>\n",
       "      <th>zipcode_withno_wf</th>\n",
       "      <th>distance_from_wfzipcode</th>\n",
       "    </tr>\n",
       "  </thead>\n",
       "  <tbody>\n",
       "    <tr>\n",
       "      <th>0</th>\n",
       "      <td>01757</td>\n",
       "      <td>MA</td>\n",
       "      <td>Worcester County</td>\n",
       "      <td>42.15</td>\n",
       "      <td>-71.52</td>\n",
       "      <td>0</td>\n",
       "      <td>1886.0</td>\n",
       "      <td>66547</td>\n",
       "      <td>1757</td>\n",
       "      <td>25.006788</td>\n",
       "    </tr>\n",
       "  </tbody>\n",
       "</table>\n",
       "</div>"
      ],
      "text/plain": [
       "  wf_zipcode state            county  latitude  longitude  windmills_count  \\\n",
       "0      01757    MA  Worcester County     42.15     -71.52                0   \n",
       "\n",
       "   pop_density  med_household_income  zipcode_withno_wf  \\\n",
       "0       1886.0                 66547               1757   \n",
       "\n",
       "   distance_from_wfzipcode  \n",
       "0                25.006788  "
      ]
     },
     "execution_count": 12,
     "metadata": {},
     "output_type": "execute_result"
    }
   ],
   "source": [
    "#Return at least one zipcode that is approximately 25 miles from the zipcode with a windfarm\n",
    "\n",
    "#create empty dataframe to store zip codes with no windfarms info\n",
    "df_out = df_me4.head(0)\n",
    "\n",
    "list_zipcode_with_wf = []\n",
    "list_state = []\n",
    "list_county = []\n",
    "list_latitude = []\n",
    "list_longitude= []\n",
    "list_windmills_count = []\n",
    "list_pop_density = []\n",
    "list_med_household_income = []\n",
    "list_zipcode_withno_wf = []\n",
    "list_distance_from_wfzipcode = []\n",
    "\n",
    "for i in df_me4.index.values:\n",
    "    wf_zipcode = df_me4.loc[i,'wf_zipcode']\n",
    "    wf_latitude = df_me4.loc[i,'latitude']\n",
    "    wf_longitude = df_me4.loc[i,'longitude']\n",
    "        \n",
    "    wf_zipcode_info = search.by_coordinates(wf_latitude, wf_longitude, radius=25, returns=1,sort_by='dist', ascending=False,)\n",
    "        \n",
    "    if len(wf_zipcode_info) != 0:\n",
    "        for info in wf_zipcode_info: \n",
    "            list_zipcode_with_wf.append(info.zipcode)\n",
    "            list_state.append(info.state)\n",
    "            list_county.append(info.county)\n",
    "            \n",
    "            list_latitude.append(info.lat)\n",
    "            list_longitude.append(info.lng)\n",
    "            \n",
    "            list_windmills_count.append(0)\n",
    "            \n",
    "            list_pop_density.append(info.population_density)\n",
    "            list_med_household_income.append(info.median_household_income)\n",
    "            \n",
    "            list_zipcode_withno_wf.append(info.zipcode)\n",
    "            list_distance_from_wfzipcode.append(distance(wf_latitude, wf_longitude, info.lat, info.lng))\n",
    "            \n",
    "    else:\n",
    "        list_zipcode.append(99999)\n",
    "    \n",
    "df_out['wf_zipcode'] = list_zipcode_with_wf\n",
    "df_out['state'] = list_state\n",
    "df_out['county'] = list_county\n",
    "df_out['latitude'] = list_latitude\n",
    "df_out['longitude'] = list_longitude\n",
    "df_out['windmills_count'] = list_windmills_count\n",
    "df_out['pop_density'] = list_pop_density\n",
    "df_out['med_household_income'] = list_med_household_income\n",
    "df_out['zipcode_withno_wf'] = list_zipcode_withno_wf\n",
    "df_out['distance_from_wfzipcode'] = list_distance_from_wfzipcode\n",
    "\n",
    "df_out['zipcode_withno_wf'] = pd.to_numeric(df_out['zipcode_withno_wf'], errors='coerce')\n",
    "\n",
    "df_out.head(1)"
   ]
  },
  {
   "cell_type": "code",
   "execution_count": 13,
   "metadata": {},
   "outputs": [
    {
     "data": {
      "text/html": [
       "<div>\n",
       "<style scoped>\n",
       "    .dataframe tbody tr th:only-of-type {\n",
       "        vertical-align: middle;\n",
       "    }\n",
       "\n",
       "    .dataframe tbody tr th {\n",
       "        vertical-align: top;\n",
       "    }\n",
       "\n",
       "    .dataframe thead th {\n",
       "        text-align: right;\n",
       "    }\n",
       "</style>\n",
       "<table border=\"1\" class=\"dataframe\">\n",
       "  <thead>\n",
       "    <tr style=\"text-align: right;\">\n",
       "      <th></th>\n",
       "      <th>wf_zipcode</th>\n",
       "      <th>state</th>\n",
       "      <th>county</th>\n",
       "      <th>latitude</th>\n",
       "      <th>longitude</th>\n",
       "      <th>windmills_count</th>\n",
       "      <th>pop_density</th>\n",
       "      <th>med_household_income</th>\n",
       "      <th>zipcode_withno_wf</th>\n",
       "      <th>distance_from_wfzipcode</th>\n",
       "      <th>...</th>\n",
       "      <th>2018-01</th>\n",
       "      <th>percent_2010_change</th>\n",
       "      <th>percent_2011_change</th>\n",
       "      <th>percent_2012_change</th>\n",
       "      <th>percent_2013_change</th>\n",
       "      <th>percent_2014_change</th>\n",
       "      <th>percent_2015_change</th>\n",
       "      <th>percent_2016_change</th>\n",
       "      <th>percent_2017_change</th>\n",
       "      <th>percent_2018_change</th>\n",
       "    </tr>\n",
       "  </thead>\n",
       "  <tbody>\n",
       "    <tr>\n",
       "      <th>0</th>\n",
       "      <td>01757</td>\n",
       "      <td>MA</td>\n",
       "      <td>Worcester County</td>\n",
       "      <td>42.15</td>\n",
       "      <td>-71.52</td>\n",
       "      <td>0</td>\n",
       "      <td>1886.0</td>\n",
       "      <td>66547</td>\n",
       "      <td>1757</td>\n",
       "      <td>25.006788</td>\n",
       "      <td>...</td>\n",
       "      <td>290300.0</td>\n",
       "      <td>NaN</td>\n",
       "      <td>NaN</td>\n",
       "      <td>NaN</td>\n",
       "      <td>NaN</td>\n",
       "      <td>0.086446</td>\n",
       "      <td>0.020857</td>\n",
       "      <td>0.02535</td>\n",
       "      <td>0.058303</td>\n",
       "      <td>0.012204</td>\n",
       "    </tr>\n",
       "  </tbody>\n",
       "</table>\n",
       "<p>1 rows × 32 columns</p>\n",
       "</div>"
      ],
      "text/plain": [
       "  wf_zipcode state            county  latitude  longitude  windmills_count  \\\n",
       "0      01757    MA  Worcester County     42.15     -71.52                0   \n",
       "\n",
       "   pop_density  med_household_income  zipcode_withno_wf  \\\n",
       "0       1886.0                 66547               1757   \n",
       "\n",
       "   distance_from_wfzipcode         ...            2018-01  \\\n",
       "0                25.006788         ...           290300.0   \n",
       "\n",
       "   percent_2010_change percent_2011_change  percent_2012_change  \\\n",
       "0                  NaN                 NaN                  NaN   \n",
       "\n",
       "   percent_2013_change  percent_2014_change  percent_2015_change  \\\n",
       "0                  NaN             0.086446             0.020857   \n",
       "\n",
       "   percent_2016_change  percent_2017_change  percent_2018_change  \n",
       "0              0.02535             0.058303             0.012204  \n",
       "\n",
       "[1 rows x 32 columns]"
      ]
     },
     "execution_count": 13,
     "metadata": {},
     "output_type": "execute_result"
    }
   ],
   "source": [
    "#Merge the zipcodes without windfarms and zillow dataframes on zip code, as inner join.\n",
    "df_stats2 = pd.merge(left=df_out, right=df_zi, on=None, left_on='zipcode_withno_wf', right_on='ZipCode')\n",
    "\n",
    "#Backfill years with no home value data with the closest year in the row that has data\n",
    "#df_stats2 = df_stats2.fillna(axis='columns',method='bfill')\n",
    "\n",
    "#Only the main columns and the home value in January of years 2009 - 2018 is needed (annual change in value)\n",
    "df_stats2 = df_stats2.iloc[:, np.r_[0:13,23,35,47,59,71,83,95,107,119,131]]\n",
    "\n",
    "#Calculate the annual change in home value as a percentage\n",
    "df_stats2['percent_2010_change'] = (df_stats2['2010-01']/df_stats2['2009-01']) - 1\n",
    "df_stats2['percent_2011_change'] = (df_stats2['2011-01']/df_stats2['2010-01']) - 1\n",
    "df_stats2['percent_2012_change'] = (df_stats2['2012-01']/df_stats2['2011-01']) - 1\n",
    "df_stats2['percent_2013_change'] = (df_stats2['2013-01']/df_stats2['2012-01']) - 1\n",
    "df_stats2['percent_2014_change'] = (df_stats2['2014-01']/df_stats2['2013-01']) - 1\n",
    "df_stats2['percent_2015_change'] = (df_stats2['2015-01']/df_stats2['2014-01']) - 1\n",
    "df_stats2['percent_2016_change'] = (df_stats2['2016-01']/df_stats2['2015-01']) - 1\n",
    "df_stats2['percent_2017_change'] = (df_stats2['2017-01']/df_stats2['2016-01']) - 1\n",
    "df_stats2['percent_2018_change'] = (df_stats2['2018-01']/df_stats2['2017-01']) - 1\n",
    "\n",
    "df_stats2.head(1)"
   ]
  },
  {
   "cell_type": "code",
   "execution_count": 14,
   "metadata": {},
   "outputs": [],
   "source": [
    "#Add a column to this dataframe that contains a value of 0 to indicate these are zipcodes with no windfarm\n",
    "df_stats2['Has_Windfarm'] = 0"
   ]
  },
  {
   "cell_type": "code",
   "execution_count": 15,
   "metadata": {},
   "outputs": [],
   "source": [
    "#Write the zipcodes with no windfarms to a csv file\n",
    "#%cd C:\\Users\\Ken\\Documents\\KenP\\Applications-DataScience\\SpringboardCourseWork\\CapstoneProject1Downloads\\MachineLearningData\n",
    "\n",
    "#out_csv = 'project1_machine_learning_zipcodes_withno_windfarms.csv'\n",
    "\n",
    "#df_stats2.to_csv(out_csv)"
   ]
  },
  {
   "cell_type": "markdown",
   "metadata": {},
   "source": [
    "<div class=\"span5 alert alert-success\">\n",
    "<p> Append the zipcodes without windfarms dataframe to the zipcodes with windfarms dataframe to create a single machine learning dataset </p>\n",
    "</div>"
   ]
  },
  {
   "cell_type": "code",
   "execution_count": 16,
   "metadata": {},
   "outputs": [],
   "source": [
    "#Append the zipcodes without a windfarm to the zipcodes with a windfarm to create a single dataset of zipcodes with\n",
    "#and without windfarms.\n",
    "df_ml = df_stats.append(df_stats2)"
   ]
  },
  {
   "cell_type": "markdown",
   "metadata": {},
   "source": [
    "<div class=\"span5 alert alert-success\">\n",
    "<p> Add the feature \"percent_higher_ed\" to the machine learning dataset </p>\n",
    "</div>"
   ]
  },
  {
   "cell_type": "code",
   "execution_count": 17,
   "metadata": {},
   "outputs": [],
   "source": [
    "#Use the windfarm's zipcodes to retrieve level of education and calculate the percent of people in each zip code\n",
    "#with at least a 4 year degree.  Then add this feature to the machine learning dataset."
   ]
  },
  {
   "cell_type": "code",
   "execution_count": 18,
   "metadata": {},
   "outputs": [],
   "source": [
    "#Test retrieving data using zipcode from zip code database\n",
    "my_zipcode = search.by_zipcode(\"1757\")"
   ]
  },
  {
   "cell_type": "code",
   "execution_count": 19,
   "metadata": {},
   "outputs": [],
   "source": [
    "#Convert retrieved data to a dictionary\n",
    "myzipdict = my_zipcode.to_dict()\n",
    "#print(myzipdict)"
   ]
  },
  {
   "cell_type": "code",
   "execution_count": 20,
   "metadata": {},
   "outputs": [
    {
     "data": {
      "text/plain": [
       "True"
      ]
     },
     "execution_count": 20,
     "metadata": {},
     "output_type": "execute_result"
    }
   ],
   "source": [
    "#Test if education data is retrievable\n",
    "'educational_attainment_for_population_25_and_over' in myzipdict"
   ]
  },
  {
   "cell_type": "code",
   "execution_count": 21,
   "metadata": {},
   "outputs": [
    {
     "data": {
      "text/plain": [
       "[{'key': 'Data',\n",
       "  'values': [{'x': 'Less Than High School Diploma', 'y': 1783},\n",
       "   {'x': 'High School Graduate', 'y': 9043},\n",
       "   {'x': \"Associate's Degree\", 'y': 1607},\n",
       "   {'x': \"Bachelor's Degree\", 'y': 4443},\n",
       "   {'x': \"Master's Degree\", 'y': 1661},\n",
       "   {'x': 'Professional School Degree', 'y': 319},\n",
       "   {'x': 'Doctorate Degree', 'y': 321}]}]"
      ]
     },
     "execution_count": 21,
     "metadata": {},
     "output_type": "execute_result"
    }
   ],
   "source": [
    "#View the education dictionary layout\n",
    "my_education = myzipdict.get('educational_attainment_for_population_25_and_over')\n",
    "my_education"
   ]
  },
  {
   "cell_type": "code",
   "execution_count": 22,
   "metadata": {},
   "outputs": [],
   "source": [
    "#Function to calculate the percent population of the zip code with higher education degrees\n",
    "def percent_higher_ed_calc(inputlist):\n",
    "    \n",
    "    degree_total = 0\n",
    "    edu_total = 0\n",
    "    \n",
    "    for k, v in enumerate(inputlist):\n",
    "        list2 = v.get('values')\n",
    "        \n",
    "        for l,m in enumerate(list2):\n",
    "            myx = m.get('x')\n",
    "            myy = m.get('y')\n",
    "            \n",
    "            if myx != 'High School Graduate' and myx != 'Less Than High School Diploma':\n",
    "                degree_total = degree_total + myy\n",
    "            \n",
    "            edu_total = edu_total + myy\n",
    "            \n",
    "        percent_higher_ed_result = degree_total/edu_total\n",
    "                \n",
    "        return percent_higher_ed_result"
   ]
  },
  {
   "cell_type": "code",
   "execution_count": 23,
   "metadata": {},
   "outputs": [],
   "source": [
    "#Add Percent_Higher_Ed to the df_wf dataframe for zipcodes WITH A WINDFARM\n",
    "df_wf_expanded = df_ml.head(46)\n",
    "\n",
    "list1 = []\n",
    "list_percent_higher_ed = []\n",
    "\n",
    "for i in df_wf_expanded.index.values:\n",
    "    wf_latitude = df_wf_expanded.loc[i,'latitude']\n",
    "    wf_longitude = df_wf_expanded.loc[i,'longitude']\n",
    "        \n",
    "    wf_zipcode_info = search.by_coordinates(wf_latitude, wf_longitude, radius=25, returns=1)\n",
    "    \n",
    "    if len(wf_zipcode_info) != 0:\n",
    "        for info in wf_zipcode_info:\n",
    "            list1 = info.educational_attainment_for_population_25_and_over\n",
    "            percent_higher_ed = percent_higher_ed_calc(list1)\n",
    "            list_percent_higher_ed.append(percent_higher_ed)\n",
    "    else:\n",
    "        list_percent_higher_ed.append(99999)\n",
    "    \n",
    "df_wf_expanded['percent_higher_ed'] = list_percent_higher_ed"
   ]
  },
  {
   "cell_type": "code",
   "execution_count": 24,
   "metadata": {},
   "outputs": [],
   "source": [
    "#Add Percent_Higher_Ed to the df_wf dataframe for zipcodes WITHOUT a Windfarm\n",
    "df_wf_expanded2 = df_ml.tail(20)\n",
    "\n",
    "list1 = []\n",
    "list_percent_higher_ed = []\n",
    "\n",
    "for i in df_wf_expanded2.index.values:\n",
    "    wf_latitude = df_wf_expanded2.loc[i,'latitude']\n",
    "    wf_longitude = df_wf_expanded2.loc[i,'longitude']\n",
    "        \n",
    "    wf_zipcode_info = search.by_coordinates(wf_latitude, wf_longitude, radius=25, returns=1)\n",
    "    \n",
    "    if len(wf_zipcode_info) != 0:\n",
    "        for info in wf_zipcode_info:\n",
    "            list1 = info.educational_attainment_for_population_25_and_over\n",
    "            percent_higher_ed = percent_higher_ed_calc(list1)\n",
    "            list_percent_higher_ed.append(percent_higher_ed)\n",
    "    else:\n",
    "        list_percent_higher_ed.append(99999)\n",
    "    \n",
    "df_wf_expanded2['percent_higher_ed'] = list_percent_higher_ed"
   ]
  },
  {
   "cell_type": "code",
   "execution_count": 25,
   "metadata": {},
   "outputs": [],
   "source": [
    "#Combine into one dataframe\n",
    "df_ml3 = df_wf_expanded.append(df_wf_expanded2)\n",
    "\n",
    "#rename the housing value columns\n",
    "df_ml3.rename(columns={'2009-01': 'y2009','2010-01': 'y2010', '2011-01': 'y2011','2012-01': 'y2012',\n",
    "                      '2013-01': 'y2013','2014-01': 'y2014','2015-01': 'y2015','2016-01': 'y2016',\n",
    "                      '2017-01': 'y2017','2018-01': 'y2018',}, inplace=True)\n",
    "\n",
    "#delete columns not needed for machine learning\n",
    "df_ml3 = df_ml3.drop(['wf_zipcode','windmills_count','zipcode_withno_wf','distance_from_wfzipcode','Unnamed: 0'], 1)"
   ]
  },
  {
   "cell_type": "markdown",
   "metadata": {},
   "source": [
    "<div class=\"span5 alert alert-success\">\n",
    "<p> Write the machine learning input dataset of all years to a csv file </p>\n",
    "</div>"
   ]
  },
  {
   "cell_type": "code",
   "execution_count": 26,
   "metadata": {},
   "outputs": [
    {
     "name": "stdout",
     "output_type": "stream",
     "text": [
      "[WinError 3] The system cannot find the path specified: 'C:\\\\Users\\\\Ken\\\\Documents\\\\KenP\\\\Applications-DataScience\\\\SpringboardCourseWork\\\\CapstoneProject1Downloads\\\\MachineLearningData'\n",
      "C:\\Users\\Ken\\Documents\\KenP\\Applications-DataScience\\SpringboardCourseWork\\CapstoneProject1Repository\\09 CapstoneProject1Data\\MergedData\n"
     ]
    }
   ],
   "source": [
    "%cd C:\\Users\\Ken\\Documents\\KenP\\Applications-DataScience\\SpringboardCourseWork\\CapstoneProject1Downloads\\MachineLearningData\n",
    "\n",
    "out_csv = 'project1_machine_learning_input_all_years_dataset.csv'\n",
    "\n",
    "df_ml3.to_csv(out_csv)"
   ]
  },
  {
   "cell_type": "markdown",
   "metadata": {},
   "source": [
    "<div class=\"span5 alert alert-success\">\n",
    "<p> Create machine learning input datasets of year ranges (i.e. 2010-2017, 2011-2017, etc... to csv files </p>\n",
    "</div>"
   ]
  },
  {
   "cell_type": "code",
   "execution_count": 27,
   "metadata": {},
   "outputs": [],
   "source": [
    "#Some zipcodes have more years of housing data available than others.  This routine breaks the zipcodes up into groups based \n",
    "#on years of data available.\n",
    "\n",
    "df = df_ml3.reset_index(drop=True)\n",
    "\n",
    "#for example, df2010 contains zipcodes with annual percent change in housing value data available starting in 2010 thru 2017;\n",
    "#             df2011 contains zipcodes with annual percent change in housing value data available starting in 2011 thru 2017, etc...\n",
    "df2009 = df[df.y2009 > 0]\n",
    "\n",
    "df2010 = df[df.y2010 > 0]\n",
    "df2010 = df2010.drop('y2009',axis=1)\n",
    "df2010 = df2010.drop('percent_2010_change',axis=1)\n",
    "\n",
    "df2011 = df[df.y2011 > 0]\n",
    "df2011 = df2011.drop(['y2009','y2010'],axis=1)\n",
    "df2011 = df2011.drop(['percent_2010_change','percent_2011_change'],axis=1)\n",
    "\n",
    "df2012 = df[df.y2012 > 0]\n",
    "df2012 = df2012.drop(['y2009','y2010','y2011'],axis=1)\n",
    "df2012 = df2012.drop(['percent_2010_change','percent_2011_change','percent_2012_change'],axis=1)\n",
    "\n",
    "df2013 = df[df.y2013 > 0]\n",
    "df2013 = df2013.drop(['y2009','y2010','y2011','y2012'],axis=1)\n",
    "df2013 = df2013.drop(['percent_2010_change','percent_2011_change','percent_2012_change','percent_2013_change'],axis=1)\n",
    "\n",
    "df2014 = df[df.y2014 > 0]\n",
    "df2014 = df2014.drop(['y2009','y2010','y2011','y2012','y2013'],axis=1)\n",
    "df2014 = df2014.drop(['percent_2010_change','percent_2011_change','percent_2012_change','percent_2013_change',\n",
    "                      'percent_2014_change'],axis=1)\n",
    "\n",
    "df2015 = df[df.y2015 > 0]\n",
    "df2015 = df2015.drop(['y2009','y2010','y2011','y2012','y2013','y2014'],axis=1)\n",
    "df2015 = df2015.drop(['percent_2010_change','percent_2011_change','percent_2012_change','percent_2013_change',\n",
    "                      'percent_2014_change','percent_2015_change'],axis=1)"
   ]
  },
  {
   "cell_type": "code",
   "execution_count": 28,
   "metadata": {},
   "outputs": [],
   "source": [
    "#Write dataframes out to csv files\n",
    "out_csv = 'project1_machine_learning_input_starting_2009.csv'\n",
    "df2009.to_csv(out_csv)\n",
    "\n",
    "out_csv = 'project1_machine_learning_input_starting_2010.csv'\n",
    "df2010.to_csv(out_csv)\n",
    "\n",
    "out_csv = 'project1_machine_learning_input_starting_2011.csv'\n",
    "df2011.to_csv(out_csv)\n",
    "\n",
    "out_csv = 'project1_machine_learning_input_starting_2012.csv'\n",
    "df2012.to_csv(out_csv)\n",
    "\n",
    "out_csv = 'project1_machine_learning_input_starting_2013.csv'\n",
    "df2013.to_csv(out_csv)\n",
    "\n",
    "out_csv = 'project1_machine_learning_input_starting_2014.csv'\n",
    "df2014.to_csv(out_csv)\n",
    "\n",
    "out_csv = 'project1_machine_learning_input_starting_2015.csv'\n",
    "df2015.to_csv(out_csv)"
   ]
  }
 ],
 "metadata": {
  "kernelspec": {
   "display_name": "Python 3",
   "language": "python",
   "name": "python3"
  },
  "language_info": {
   "codemirror_mode": {
    "name": "ipython",
    "version": 3
   },
   "file_extension": ".py",
   "mimetype": "text/x-python",
   "name": "python",
   "nbconvert_exporter": "python",
   "pygments_lexer": "ipython3",
   "version": "3.6.5"
  }
 },
 "nbformat": 4,
 "nbformat_minor": 2
}
