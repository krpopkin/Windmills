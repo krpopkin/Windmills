{
 "cells": [
  {
   "cell_type": "markdown",
   "metadata": {},
   "source": [
    "<div class=\"span5 alert alert-success\">\n",
    "<p> This workbook runs a Random Forest regressor for various windfarm machine learning datasets </p>\n",
    "</div>"
   ]
  },
  {
   "cell_type": "markdown",
   "metadata": {},
   "source": [
    "<div class=\"span5 alert alert-success\">\n",
    "<p> Prep </p>\n",
    "</div>"
   ]
  },
  {
   "cell_type": "code",
   "execution_count": 1,
   "metadata": {},
   "outputs": [],
   "source": [
    "import warnings\n",
    "warnings.filterwarnings('ignore')"
   ]
  },
  {
   "cell_type": "code",
   "execution_count": 2,
   "metadata": {},
   "outputs": [
    {
     "name": "stdout",
     "output_type": "stream",
     "text": [
      "C:\\Users\\Ken\\Documents\\KenP\\Applications-DataScience\\SpringboardCourseWork\\CapstoneProject1Repository\\09 CapstoneProject1Data\\MachineLearningData\n"
     ]
    }
   ],
   "source": [
    "%cd C:\\Users\\Ken\\Documents\\KenP\\Applications-DataScience\\SpringboardCourseWork\\CapstoneProject1Repository\\09 CapstoneProject1Data\\MachineLearningData"
   ]
  },
  {
   "cell_type": "code",
   "execution_count": 3,
   "metadata": {},
   "outputs": [],
   "source": [
    "import pandas as pd\n",
    "from sklearn.model_selection import KFold\n",
    "from sklearn.model_selection import cross_val_score\n",
    "from sklearn.ensemble import RandomForestRegressor"
   ]
  },
  {
   "cell_type": "code",
   "execution_count": 4,
   "metadata": {},
   "outputs": [],
   "source": [
    "#Function to build the model\n",
    "def BuildAndFitModel(model_type, df, x, y):\n",
    "    array = df.values\n",
    "    X = array[:,0:x]\n",
    "    Y = array[:,y]\n",
    "    kfold = KFold(n_splits=5, random_state=7)\n",
    "    model = model_type()\n",
    "    \n",
    "    model.fit(X,Y)\n",
    "    model_score = model.score(X,Y)\n",
    "    \n",
    "    print('model score: ' + str(model_score))\n",
    "    \n",
    "    model_cv_scores = cross_val_score(model, X, Y, cv = 5)\n",
    "    print('model score with cross validation: ' + str(model_cv_scores))\n",
    "    \n",
    "    print('model score with cross validation mean: ' + str(model_cv_scores.mean()))\n",
    "    \n",
    "    return [model_score, model_cv_scores]"
   ]
  },
  {
   "cell_type": "markdown",
   "metadata": {},
   "source": [
    "<div class=\"span5 alert alert-success\">\n",
    "<p> Using zip codes (count: 21) with 2009 - 2017 housing data available </p>\n",
    "</div>"
   ]
  },
  {
   "cell_type": "code",
   "execution_count": 5,
   "metadata": {},
   "outputs": [
    {
     "name": "stdout",
     "output_type": "stream",
     "text": [
      "Model 2009 Results\n",
      "model score: 0.7598489490263726\n",
      "model score with cross validation: [-0.11322455 -0.18742089 -3.47931498 -0.06509685 -1.53401053]\n",
      "model score with cross validation mean: -1.0758135613016522\n"
     ]
    }
   ],
   "source": [
    "dfin = pd.read_csv('project1_machine_learning_input_starting_2009.csv')\n",
    "\n",
    "df = dfin[['pop_density','med_household_income','Has_Windfarm', 'percent_higher_ed',\n",
    "              'percent_2010_change','percent_2011_change','percent_2012_change',\n",
    "              'percent_2013_change','percent_2014_change','percent_2015_change','percent_2016_change',\n",
    "              'percent_2017_change','percent_2018_change']]\n",
    "\n",
    "print('Model 2009 Results')\n",
    "model2009 = BuildAndFitModel(RandomForestRegressor, df, 12, 12)"
   ]
  },
  {
   "cell_type": "markdown",
   "metadata": {},
   "source": [
    "<div class=\"span5 alert alert-success\">\n",
    "<p> Using zip codes (count: 48) with 2014 - 2017 housing data available </p>\n",
    "</div>"
   ]
  },
  {
   "cell_type": "code",
   "execution_count": 6,
   "metadata": {},
   "outputs": [
    {
     "name": "stdout",
     "output_type": "stream",
     "text": [
      "Model 2014 Results\n",
      "model score: 0.8797111536103478\n",
      "model score with cross validation: [ 0.23810663  0.10775851 -0.53623548 -0.16712205 -1.14844571]\n",
      "model score with cross validation mean: -0.301187619042642\n"
     ]
    }
   ],
   "source": [
    "dfin = pd.read_csv('project1_machine_learning_input_starting_2014.csv')\n",
    "\n",
    "df = dfin[['pop_density','med_household_income','Has_Windfarm', 'percent_higher_ed',\n",
    "           'percent_2015_change','percent_2016_change',\n",
    "           'percent_2017_change','percent_2018_change']]\n",
    "\n",
    "print('Model 2014 Results')\n",
    "model2014 = BuildAndFitModel(RandomForestRegressor, df, 7, 7)"
   ]
  },
  {
   "cell_type": "markdown",
   "metadata": {},
   "source": [
    "<div class=\"span5 alert alert-success\">\n",
    "<p> Using zip codes (count: 21) with 2009 - 2017 housing data available, but only using population density,\n",
    "    percent higher ed, Has_Windfarm, and median household income in the model</p>\n",
    "</div>"
   ]
  },
  {
   "cell_type": "code",
   "execution_count": 7,
   "metadata": {},
   "outputs": [
    {
     "name": "stdout",
     "output_type": "stream",
     "text": [
      "Model 2009 Results with only pop density, median income, has windfarm, and percent higher ed\n",
      "model score: 0.8612424888696069\n",
      "model score with cross validation: [-0.19557726 -0.3746838  -2.64518849  0.14615605 -3.39452743]\n",
      "model score with cross validation mean: -1.2927641855032062\n"
     ]
    }
   ],
   "source": [
    "dfin = pd.read_csv('project1_machine_learning_input_starting_2009.csv')\n",
    "\n",
    "df = dfin[['pop_density','med_household_income','Has_Windfarm', 'percent_higher_ed','percent_2018_change']]\n",
    "\n",
    "print('Model 2009 Results with only pop density, median income, has windfarm, and percent higher ed')\n",
    "model2009b = BuildAndFitModel(RandomForestRegressor, df, 4, 4)"
   ]
  },
  {
   "cell_type": "markdown",
   "metadata": {},
   "source": [
    "<div class=\"span5 alert alert-success\">\n",
    "<b> Random Forest Conclusions </b> <br>\n",
    "    <p>Using three different test datasets (years 2009 - 2017, years 2014 - 2017, and no housing values) produces very \n",
    "    similar results for the models with 9 years and 4 years of housing data.  Performance drops off when housing data\n",
    "    is not included in the model. <br>    \n",
    "    The Random Forest algorithm produced a much better result overall than the Decision Tree algorithm.\n",
    "</p>\n",
    "</div>"
   ]
  }
 ],
 "metadata": {
  "kernelspec": {
   "display_name": "Python 3",
   "language": "python",
   "name": "python3"
  },
  "language_info": {
   "codemirror_mode": {
    "name": "ipython",
    "version": 3
   },
   "file_extension": ".py",
   "mimetype": "text/x-python",
   "name": "python",
   "nbconvert_exporter": "python",
   "pygments_lexer": "ipython3",
   "version": "3.6.5"
  }
 },
 "nbformat": 4,
 "nbformat_minor": 2
}
