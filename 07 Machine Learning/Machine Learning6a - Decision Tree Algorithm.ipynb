{
 "cells": [
  {
   "cell_type": "markdown",
   "metadata": {},
   "source": [
    "<div class=\"span5 alert alert-success\">\n",
    "<p> <b> Description: </b> <br>\n",
    "    This workbook runs a Decision Tree regressor for various windfarm machine learning datasets </p>\n",
    "</div>"
   ]
  },
  {
   "cell_type": "markdown",
   "metadata": {},
   "source": [
    "<div class=\"span5 alert alert-success\">\n",
    "<p> <b>Prep </b> </p>\n",
    "</div>"
   ]
  },
  {
   "cell_type": "code",
   "execution_count": 16,
   "metadata": {},
   "outputs": [
    {
     "name": "stdout",
     "output_type": "stream",
     "text": [
      "C:\\Users\\Ken\\Documents\\KenP\\Applications-DataScience\\SpringboardCourseWork\\CapstoneProject1Repository\\09 CapstoneProject1Data\\MachineLearningData\n"
     ]
    }
   ],
   "source": [
    "%cd C:\\Users\\Ken\\Documents\\KenP\\Applications-DataScience\\SpringboardCourseWork\\CapstoneProject1Repository\\09 CapstoneProject1Data\\MachineLearningData"
   ]
  },
  {
   "cell_type": "code",
   "execution_count": 17,
   "metadata": {},
   "outputs": [],
   "source": [
    "import pandas as pd\n",
    "from sklearn.model_selection import KFold\n",
    "from sklearn.model_selection import cross_val_score\n",
    "from sklearn.tree import DecisionTreeRegressor\n",
    "from sklearn.model_selection import GridSearchCV\n",
    "from sklearn.pipeline import Pipeline\n",
    "from sklearn.preprocessing import StandardScaler"
   ]
  },
  {
   "cell_type": "code",
   "execution_count": 18,
   "metadata": {},
   "outputs": [],
   "source": [
    "import warnings\n",
    "warnings.filterwarnings('ignore')"
   ]
  },
  {
   "cell_type": "markdown",
   "metadata": {},
   "source": [
    "<div class=\"span5 alert alert-success\">\n",
    "<p> <b> Run Decision Tree algorithm </b> for several selections of features </p>\n",
    "</div>"
   ]
  },
  {
   "cell_type": "code",
   "execution_count": 19,
   "metadata": {},
   "outputs": [],
   "source": [
    "#Function to build the model\n",
    "def BuildAndFitModel(model_type, df, x, y, incriterion, insplitter):\n",
    "    array = df.values\n",
    "    X = array[:,0:x]\n",
    "    Y = array[:,y]\n",
    "    kfold = KFold(n_splits=5, random_state=7)\n",
    "    model = model_type(criterion = incriterion, splitter = insplitter)\n",
    "    \n",
    "    model.fit(X,Y)\n",
    "    model_score = model.score(X,Y)\n",
    "    \n",
    "    print('model score: ' + str(model_score))\n",
    "    \n",
    "    model_cv_scores = cross_val_score(model, X, Y, cv = 5)\n",
    "    print('model score with cross validation: ' + str(model_cv_scores))\n",
    "    \n",
    "    print('model score with cross validation mean: ' + str(model_cv_scores.mean()))\n",
    "    \n",
    "    return [model_score, model_cv_scores]"
   ]
  },
  {
   "cell_type": "markdown",
   "metadata": {},
   "source": [
    "<div class=\"span5 alert alert-success\">\n",
    "<p> Run #1: Using zip codes (count: 21) with 2009 - 2017 housing data available </p>\n",
    "</div>"
   ]
  },
  {
   "cell_type": "code",
   "execution_count": 20,
   "metadata": {},
   "outputs": [
    {
     "name": "stdout",
     "output_type": "stream",
     "text": [
      "Model 2009 Results\n",
      "model score: 1.0\n",
      "model score with cross validation: [-1.39339561 -2.09900421 -2.55990681 -1.9911439  -3.68906208]\n",
      "model score with cross validation mean: -2.3465025219940694\n"
     ]
    }
   ],
   "source": [
    "dfin = pd.read_csv('project1_machine_learning_input_starting_2009.csv')\n",
    "\n",
    "df = dfin[['pop_density','med_household_income','Has_Windfarm', 'percent_higher_ed',\n",
    "              'percent_2010_change','percent_2011_change','percent_2012_change',\n",
    "              'percent_2013_change','percent_2014_change','percent_2015_change','percent_2016_change',\n",
    "              'percent_2017_change','percent_2018_change']]\n",
    "\n",
    "print('Model 2009 Results')\n",
    "model2009 = BuildAndFitModel(DecisionTreeRegressor, df, 12, 12, 'mse','best')"
   ]
  },
  {
   "cell_type": "markdown",
   "metadata": {},
   "source": [
    "<div class=\"span5 alert alert-success\">\n",
    "<p> Run #2: Using zip codes (count: 48) with 2014 - 2017 housing data available </p>\n",
    "</div>"
   ]
  },
  {
   "cell_type": "code",
   "execution_count": 21,
   "metadata": {},
   "outputs": [
    {
     "name": "stdout",
     "output_type": "stream",
     "text": [
      "Model 2014 Results\n",
      "model score: 1.0\n",
      "model score with cross validation: [ 0.27515748 -0.92416615 -0.16443261 -0.53188625 -5.62866214]\n",
      "model score with cross validation mean: -1.394797933465376\n"
     ]
    }
   ],
   "source": [
    "dfin = pd.read_csv('project1_machine_learning_input_starting_2014.csv')\n",
    "\n",
    "df = dfin[['pop_density','med_household_income','Has_Windfarm', 'percent_higher_ed',\n",
    "           'percent_2015_change','percent_2016_change',\n",
    "           'percent_2017_change','percent_2018_change']]\n",
    "\n",
    "print('Model 2014 Results')\n",
    "model2014 = BuildAndFitModel(DecisionTreeRegressor, df, 7, 7, 'mse','best')"
   ]
  },
  {
   "cell_type": "markdown",
   "metadata": {},
   "source": [
    "<div class=\"span5 alert alert-success\">\n",
    "<p> Run #3: Using zip codes (count: 21) with 2009 - 2017 housing data available, but only using population density,\n",
    "    percent higher ed, Has_Windfarm, and median household income in the model</p>\n",
    "</div>"
   ]
  },
  {
   "cell_type": "code",
   "execution_count": 22,
   "metadata": {},
   "outputs": [
    {
     "name": "stdout",
     "output_type": "stream",
     "text": [
      "Model 2009 Results with only pop density, median income, has windfarm, and percent higher ed\n",
      "model score: 0.9999990922719478\n",
      "model score with cross validation: [-0.7645484   0.75390454 -2.66888227  0.29140887 -2.44074748]\n",
      "model score with cross validation mean: -0.9657729487739054\n"
     ]
    }
   ],
   "source": [
    "dfin = pd.read_csv('project1_machine_learning_input_starting_2009.csv')\n",
    "\n",
    "df = dfin[['pop_density','med_household_income','Has_Windfarm', 'percent_higher_ed','percent_2018_change']]\n",
    "\n",
    "print('Model 2009 Results with only pop density, median income, has windfarm, and percent higher ed')\n",
    "model2009b = BuildAndFitModel(DecisionTreeRegressor, df, 4, 4, 'mse','best')"
   ]
  },
  {
   "cell_type": "markdown",
   "metadata": {},
   "source": [
    "<div class=\"span5 alert alert-success\">\n",
    "<b> Hyper-parameter tuning using data from Run #3 </b> <br>\n",
    "    Parameters selected to try changing are criterion and splitter\n",
    "\n",
    "</div>"
   ]
  },
  {
   "cell_type": "code",
   "execution_count": 23,
   "metadata": {},
   "outputs": [
    {
     "name": "stdout",
     "output_type": "stream",
     "text": [
      "Fitting 5 folds for each of 4 candidates, totalling 20 fits\n",
      "Grid result best score (R2):\n",
      "-0.12227938038473393\n",
      "\n",
      "Grid result best parameters:\n",
      "{'criterion': 'mse', 'splitter': 'best'}\n"
     ]
    },
    {
     "name": "stderr",
     "output_type": "stream",
     "text": [
      "[Parallel(n_jobs=-1)]: Done  20 out of  20 | elapsed:    6.3s finished\n"
     ]
    }
   ],
   "source": [
    "#Use GridSearchCV on parameters to tune\n",
    "from sklearn.discriminant_analysis import LinearDiscriminantAnalysis\n",
    "\n",
    "model = DecisionTreeRegressor()\n",
    "\n",
    "incriterion = ['mse','mae']\n",
    "insplitter = ['best','random']\n",
    "\n",
    "param_grid = dict(criterion=incriterion, splitter = insplitter)\n",
    "\n",
    "array = df.values\n",
    "X = array[:,0:4]\n",
    "Y = array[:,4]\n",
    "\n",
    "kfold = KFold(n_splits=5, shuffle=True, random_state=7)\n",
    "\n",
    "grid_search = GridSearchCV(model, param_grid, n_jobs=-1, cv=kfold,\n",
    "verbose=1)\n",
    "\n",
    "grid_result = grid_search.fit(X,Y)\n",
    "\n",
    "print('Grid result best score (R2):')\n",
    "print(grid_result.best_score_)\n",
    "print()\n",
    "print('Grid result best parameters:')\n",
    "print(grid_result.best_params_)"
   ]
  },
  {
   "cell_type": "markdown",
   "metadata": {},
   "source": [
    "<div class=\"span5 alert alert-success\">\n",
    "<b> Use a Pipeline in sklearn to run the Decision Tree algorithm </b> <br>\n",
    "    Using the last created dataframe, use sklearn's pipline functionality to run the model\n",
    "</div>"
   ]
  },
  {
   "cell_type": "code",
   "execution_count": 24,
   "metadata": {},
   "outputs": [
    {
     "name": "stdout",
     "output_type": "stream",
     "text": [
      "model score: 0.9999990922719478\n",
      "model score with cross validation: [-0.85619279  0.74763733 -4.70963778  0.29140887 -7.14312174]\n",
      "model score with cross validation mean: -2.3339812213546454\n"
     ]
    }
   ],
   "source": [
    "#Using a pipeline from sklearn\n",
    "array = df.values\n",
    "\n",
    "X = array[:,0:4]\n",
    "Y = array[:,4]\n",
    "\n",
    "# create pipeline\n",
    "estimators = []\n",
    "estimators.append(('standardize', StandardScaler()))\n",
    "estimators.append(('decisiontree', DecisionTreeRegressor()))\n",
    "\n",
    "model = Pipeline(estimators)\n",
    "\n",
    "model.fit(X,Y)\n",
    "model_score = model.score(X,Y)\n",
    "\n",
    "# evaluate pipeline\n",
    "kfold = KFold(n_splits=5, random_state=7)\n",
    "\n",
    "#print results\n",
    "print('model score: ' + str(model_score))\n",
    "    \n",
    "model_cv_scores = cross_val_score(model, X, Y, cv = kfold)\n",
    "print('model score with cross validation: ' + str(model_cv_scores))\n",
    "\n",
    "print('model score with cross validation mean: ' + str(model_cv_scores.mean()))"
   ]
  },
  {
   "cell_type": "markdown",
   "metadata": {},
   "source": [
    "<div class=\"span5 alert alert-success\">\n",
    "<b> Decision Tree Conclusions </b> <br>\n",
    "    Using three different test datasets (years 2009 - 2017, years 2014 - 2017, and no housing values) produces a very \n",
    "    similar results set.\n",
    "</div>"
   ]
  }
 ],
 "metadata": {
  "kernelspec": {
   "display_name": "Python 3",
   "language": "python",
   "name": "python3"
  },
  "language_info": {
   "codemirror_mode": {
    "name": "ipython",
    "version": 3
   },
   "file_extension": ".py",
   "mimetype": "text/x-python",
   "name": "python",
   "nbconvert_exporter": "python",
   "pygments_lexer": "ipython3",
   "version": "3.7.3"
  }
 },
 "nbformat": 4,
 "nbformat_minor": 2
}
