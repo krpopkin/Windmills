{
 "cells": [
  {
   "cell_type": "code",
   "execution_count": 1,
   "metadata": {},
   "outputs": [],
   "source": [
    "#This workbook contains exploratory data analysis, primarily on the merged windfarm and zillow data;\n",
    "#with some comparisons back to the windfarm and zillow cleaned data."
   ]
  },
  {
   "cell_type": "code",
   "execution_count": 2,
   "metadata": {},
   "outputs": [],
   "source": [
    "import warnings\n",
    "warnings.filterwarnings('ignore')"
   ]
  },
  {
   "cell_type": "code",
   "execution_count": 3,
   "metadata": {},
   "outputs": [],
   "source": [
    "#Imports\n",
    "import pandas as pd\n",
    "import numpy as np\n",
    "import matplotlib.pyplot as plt\n",
    "import seaborn as sns"
   ]
  },
  {
   "cell_type": "code",
   "execution_count": 4,
   "metadata": {},
   "outputs": [
    {
     "name": "stdout",
     "output_type": "stream",
     "text": [
      "C:\\Users\\Ken\\Documents\\KenP\\Applications-DataScience\\SpringboardCourseWork\\CapstoneProject1Repository\\09 CapstoneProject1Data\\MergedData\n"
     ]
    },
    {
     "data": {
      "text/html": [
       "<div>\n",
       "<style scoped>\n",
       "    .dataframe tbody tr th:only-of-type {\n",
       "        vertical-align: middle;\n",
       "    }\n",
       "\n",
       "    .dataframe tbody tr th {\n",
       "        vertical-align: top;\n",
       "    }\n",
       "\n",
       "    .dataframe thead th {\n",
       "        text-align: right;\n",
       "    }\n",
       "</style>\n",
       "<table border=\"1\" class=\"dataframe\">\n",
       "  <thead>\n",
       "    <tr style=\"text-align: right;\">\n",
       "      <th></th>\n",
       "      <th>Unnamed: 0</th>\n",
       "      <th>state</th>\n",
       "      <th>county</th>\n",
       "      <th>fips</th>\n",
       "      <th>project_name</th>\n",
       "      <th>project_op_year</th>\n",
       "      <th>windmills_count</th>\n",
       "      <th>capacity</th>\n",
       "      <th>longitude</th>\n",
       "      <th>latitude</th>\n",
       "      <th>...</th>\n",
       "      <th>2017-11</th>\n",
       "      <th>2017-12</th>\n",
       "      <th>2018-01</th>\n",
       "      <th>2018-02</th>\n",
       "      <th>2018-03</th>\n",
       "      <th>2018-04</th>\n",
       "      <th>2018-05</th>\n",
       "      <th>2018-06</th>\n",
       "      <th>2018-07</th>\n",
       "      <th>2018-08</th>\n",
       "    </tr>\n",
       "  </thead>\n",
       "  <tbody>\n",
       "    <tr>\n",
       "      <th>0</th>\n",
       "      <td>0</td>\n",
       "      <td>MA</td>\n",
       "      <td>Worcester County</td>\n",
       "      <td>25027</td>\n",
       "      <td>Nature's Classroom Wind Turbine</td>\n",
       "      <td>2009</td>\n",
       "      <td>1</td>\n",
       "      <td>0.1</td>\n",
       "      <td>-72.003899</td>\n",
       "      <td>42.110889</td>\n",
       "      <td>...</td>\n",
       "      <td>290300.0</td>\n",
       "      <td>279200.0</td>\n",
       "      <td>276000.0</td>\n",
       "      <td>252000.0</td>\n",
       "      <td>244500.0</td>\n",
       "      <td>259900.0</td>\n",
       "      <td>287800.0</td>\n",
       "      <td>295100.0</td>\n",
       "      <td>289100.0</td>\n",
       "      <td>NaN</td>\n",
       "    </tr>\n",
       "  </tbody>\n",
       "</table>\n",
       "<p>1 rows × 142 columns</p>\n",
       "</div>"
      ],
      "text/plain": [
       "   Unnamed: 0 state            county   fips                     project_name  \\\n",
       "0           0    MA  Worcester County  25027  Nature's Classroom Wind Turbine   \n",
       "\n",
       "   project_op_year  windmills_count  capacity  longitude   latitude   ...     \\\n",
       "0             2009                1       0.1 -72.003899  42.110889   ...      \n",
       "\n",
       "    2017-11   2017-12   2018-01   2018-02   2018-03   2018-04   2018-05  \\\n",
       "0  290300.0  279200.0  276000.0  252000.0  244500.0  259900.0  287800.0   \n",
       "\n",
       "    2018-06   2018-07  2018-08  \n",
       "0  295100.0  289100.0      NaN  \n",
       "\n",
       "[1 rows x 142 columns]"
      ]
     },
     "execution_count": 4,
     "metadata": {},
     "output_type": "execute_result"
    }
   ],
   "source": [
    "#Load the merged windfarm and zillow csv file to a dataframe\n",
    "%cd C:\\Users\\Ken\\Documents\\KenP\\Applications-DataScience\\SpringboardCourseWork\\CapstoneProject1Repository\\09 CapstoneProject1Data\\MergedData\n",
    "df_me = pd.read_csv('merged_wi_and_zi.csv')\n",
    "df_me.head(1)"
   ]
  },
  {
   "cell_type": "code",
   "execution_count": 5,
   "metadata": {},
   "outputs": [
    {
     "name": "stdout",
     "output_type": "stream",
     "text": [
      "C:\\Users\\Ken\\Documents\\KenP\\Applications-DataScience\\SpringboardCourseWork\\CapstoneProject1Repository\\09 CapstoneProject1Data\\ZillowData\n"
     ]
    },
    {
     "data": {
      "text/html": [
       "<div>\n",
       "<style scoped>\n",
       "    .dataframe tbody tr th:only-of-type {\n",
       "        vertical-align: middle;\n",
       "    }\n",
       "\n",
       "    .dataframe tbody tr th {\n",
       "        vertical-align: top;\n",
       "    }\n",
       "\n",
       "    .dataframe thead th {\n",
       "        text-align: right;\n",
       "    }\n",
       "</style>\n",
       "<table border=\"1\" class=\"dataframe\">\n",
       "  <thead>\n",
       "    <tr style=\"text-align: right;\">\n",
       "      <th></th>\n",
       "      <th>Unnamed: 0</th>\n",
       "      <th>ZipCode</th>\n",
       "      <th>StateName</th>\n",
       "      <th>2008-03</th>\n",
       "      <th>2008-04</th>\n",
       "      <th>2008-05</th>\n",
       "      <th>2008-06</th>\n",
       "      <th>2008-07</th>\n",
       "      <th>2008-08</th>\n",
       "      <th>2008-09</th>\n",
       "      <th>...</th>\n",
       "      <th>2017-11</th>\n",
       "      <th>2017-12</th>\n",
       "      <th>2018-01</th>\n",
       "      <th>2018-02</th>\n",
       "      <th>2018-03</th>\n",
       "      <th>2018-04</th>\n",
       "      <th>2018-05</th>\n",
       "      <th>2018-06</th>\n",
       "      <th>2018-07</th>\n",
       "      <th>2018-08</th>\n",
       "    </tr>\n",
       "  </thead>\n",
       "  <tbody>\n",
       "    <tr>\n",
       "      <th>0</th>\n",
       "      <td>0</td>\n",
       "      <td>60657</td>\n",
       "      <td>Illinois</td>\n",
       "      <td>366800.0</td>\n",
       "      <td>380300.0</td>\n",
       "      <td>392100.0</td>\n",
       "      <td>394000.0</td>\n",
       "      <td>389300.0</td>\n",
       "      <td>380200.0</td>\n",
       "      <td>366300.0</td>\n",
       "      <td>...</td>\n",
       "      <td>414800.0</td>\n",
       "      <td>411200.0</td>\n",
       "      <td>403000.0</td>\n",
       "      <td>407500.0</td>\n",
       "      <td>421700.0</td>\n",
       "      <td>367400.0</td>\n",
       "      <td>367000.0</td>\n",
       "      <td>364600.0</td>\n",
       "      <td>414100.0</td>\n",
       "      <td>413200.0</td>\n",
       "    </tr>\n",
       "  </tbody>\n",
       "</table>\n",
       "<p>1 rows × 129 columns</p>\n",
       "</div>"
      ],
      "text/plain": [
       "   Unnamed: 0  ZipCode StateName   2008-03   2008-04   2008-05   2008-06  \\\n",
       "0           0    60657  Illinois  366800.0  380300.0  392100.0  394000.0   \n",
       "\n",
       "    2008-07   2008-08   2008-09    ...      2017-11   2017-12   2018-01  \\\n",
       "0  389300.0  380200.0  366300.0    ...     414800.0  411200.0  403000.0   \n",
       "\n",
       "    2018-02   2018-03   2018-04   2018-05   2018-06   2018-07   2018-08  \n",
       "0  407500.0  421700.0  367400.0  367000.0  364600.0  414100.0  413200.0  \n",
       "\n",
       "[1 rows x 129 columns]"
      ]
     },
     "execution_count": 5,
     "metadata": {},
     "output_type": "execute_result"
    }
   ],
   "source": [
    "#Load the cleaned zillow csv file to a dataframe\n",
    "%cd C:\\Users\\Ken\\Documents\\KenP\\Applications-DataScience\\SpringboardCourseWork\\CapstoneProject1Repository\\09 CapstoneProject1Data\\ZillowData\n",
    "df_zi = pd.read_csv('project1_housing_data.csv')\n",
    "df_zi.head(1)"
   ]
  },
  {
   "cell_type": "code",
   "execution_count": 6,
   "metadata": {},
   "outputs": [
    {
     "name": "stdout",
     "output_type": "stream",
     "text": [
      "C:\\Users\\Ken\\Documents\\KenP\\Applications-DataScience\\SpringboardCourseWork\\CapstoneProject1Repository\\09 CapstoneProject1Data\\WindfarmData\n"
     ]
    },
    {
     "data": {
      "text/html": [
       "<div>\n",
       "<style scoped>\n",
       "    .dataframe tbody tr th:only-of-type {\n",
       "        vertical-align: middle;\n",
       "    }\n",
       "\n",
       "    .dataframe tbody tr th {\n",
       "        vertical-align: top;\n",
       "    }\n",
       "\n",
       "    .dataframe thead th {\n",
       "        text-align: right;\n",
       "    }\n",
       "</style>\n",
       "<table border=\"1\" class=\"dataframe\">\n",
       "  <thead>\n",
       "    <tr style=\"text-align: right;\">\n",
       "      <th></th>\n",
       "      <th>Unnamed: 0</th>\n",
       "      <th>Unnamed: 0.1</th>\n",
       "      <th>state</th>\n",
       "      <th>county</th>\n",
       "      <th>fips</th>\n",
       "      <th>project_name</th>\n",
       "      <th>project_op_year</th>\n",
       "      <th>windmills_count</th>\n",
       "      <th>capacity</th>\n",
       "      <th>longitude</th>\n",
       "      <th>latitude</th>\n",
       "      <th>zipcode</th>\n",
       "      <th>pop_density</th>\n",
       "      <th>med_household_income</th>\n",
       "    </tr>\n",
       "  </thead>\n",
       "  <tbody>\n",
       "    <tr>\n",
       "      <th>0</th>\n",
       "      <td>0</td>\n",
       "      <td>0</td>\n",
       "      <td>CA</td>\n",
       "      <td>Kern County</td>\n",
       "      <td>6029</td>\n",
       "      <td>251 Wind</td>\n",
       "      <td>1987</td>\n",
       "      <td>194</td>\n",
       "      <td>18.43</td>\n",
       "      <td>-118.360725</td>\n",
       "      <td>35.083778</td>\n",
       "      <td>93561</td>\n",
       "      <td>131.0</td>\n",
       "      <td>57433.0</td>\n",
       "    </tr>\n",
       "  </tbody>\n",
       "</table>\n",
       "</div>"
      ],
      "text/plain": [
       "   Unnamed: 0  Unnamed: 0.1 state       county  fips project_name  \\\n",
       "0           0             0    CA  Kern County  6029     251 Wind   \n",
       "\n",
       "   project_op_year  windmills_count  capacity   longitude   latitude  zipcode  \\\n",
       "0             1987              194     18.43 -118.360725  35.083778    93561   \n",
       "\n",
       "   pop_density  med_household_income  \n",
       "0        131.0               57433.0  "
      ]
     },
     "execution_count": 6,
     "metadata": {},
     "output_type": "execute_result"
    }
   ],
   "source": [
    "#Load the cleaned & expanded windfarm csv file to a dataframe\n",
    "%cd C:\\Users\\Ken\\Documents\\KenP\\Applications-DataScience\\SpringboardCourseWork\\CapstoneProject1Repository\\09 CapstoneProject1Data\\WindfarmData\n",
    "\n",
    "df_wf = pd.read_csv('project1_windfarm_data_expanded.csv')\n",
    "\n",
    "df_wf.head(1)"
   ]
  },
  {
   "cell_type": "code",
   "execution_count": 7,
   "metadata": {},
   "outputs": [
    {
     "name": "stdout",
     "output_type": "stream",
     "text": [
      "original windfarm data count: 1269\n",
      "merged windfarm data count: 58\n",
      "merged number of states with windfarms: 13\n"
     ]
    }
   ],
   "source": [
    "#Count the records in the original windfarm data and compare to the count in the merged windfarm data.\n",
    "\n",
    "orig_wf_count = len(df_wf['zipcode'].unique())\n",
    "\n",
    "merg_wf_count = len(df_me['zipcode'].unique())\n",
    "\n",
    "merg_number_of_states = len(df_me['state'].unique())\n",
    "\n",
    "print('original windfarm data count: ' + str(orig_wf_count))\n",
    "print('merged windfarm data count: ' + str(merg_wf_count))\n",
    "print('merged number of states with windfarms: ' + str(merg_number_of_states))"
   ]
  },
  {
   "cell_type": "code",
   "execution_count": 8,
   "metadata": {},
   "outputs": [
    {
     "data": {
      "text/html": [
       "<div>\n",
       "<style scoped>\n",
       "    .dataframe tbody tr th:only-of-type {\n",
       "        vertical-align: middle;\n",
       "    }\n",
       "\n",
       "    .dataframe tbody tr th {\n",
       "        vertical-align: top;\n",
       "    }\n",
       "\n",
       "    .dataframe thead th {\n",
       "        text-align: right;\n",
       "    }\n",
       "</style>\n",
       "<table border=\"1\" class=\"dataframe\">\n",
       "  <thead>\n",
       "    <tr style=\"text-align: right;\">\n",
       "      <th></th>\n",
       "      <th>state</th>\n",
       "      <th>zipcode_count</th>\n",
       "    </tr>\n",
       "  </thead>\n",
       "  <tbody>\n",
       "    <tr>\n",
       "      <th>0</th>\n",
       "      <td>CA</td>\n",
       "      <td>19</td>\n",
       "    </tr>\n",
       "    <tr>\n",
       "      <th>4</th>\n",
       "      <td>MA</td>\n",
       "      <td>13</td>\n",
       "    </tr>\n",
       "    <tr>\n",
       "      <th>5</th>\n",
       "      <td>MN</td>\n",
       "      <td>6</td>\n",
       "    </tr>\n",
       "    <tr>\n",
       "      <th>7</th>\n",
       "      <td>OH</td>\n",
       "      <td>5</td>\n",
       "    </tr>\n",
       "    <tr>\n",
       "      <th>9</th>\n",
       "      <td>RI</td>\n",
       "      <td>3</td>\n",
       "    </tr>\n",
       "    <tr>\n",
       "      <th>10</th>\n",
       "      <td>TX</td>\n",
       "      <td>3</td>\n",
       "    </tr>\n",
       "    <tr>\n",
       "      <th>1</th>\n",
       "      <td>CO</td>\n",
       "      <td>2</td>\n",
       "    </tr>\n",
       "    <tr>\n",
       "      <th>2</th>\n",
       "      <td>IA</td>\n",
       "      <td>2</td>\n",
       "    </tr>\n",
       "    <tr>\n",
       "      <th>3</th>\n",
       "      <td>IL</td>\n",
       "      <td>1</td>\n",
       "    </tr>\n",
       "    <tr>\n",
       "      <th>6</th>\n",
       "      <td>NY</td>\n",
       "      <td>1</td>\n",
       "    </tr>\n",
       "    <tr>\n",
       "      <th>8</th>\n",
       "      <td>OK</td>\n",
       "      <td>1</td>\n",
       "    </tr>\n",
       "    <tr>\n",
       "      <th>11</th>\n",
       "      <td>UT</td>\n",
       "      <td>1</td>\n",
       "    </tr>\n",
       "    <tr>\n",
       "      <th>12</th>\n",
       "      <td>WA</td>\n",
       "      <td>1</td>\n",
       "    </tr>\n",
       "  </tbody>\n",
       "</table>\n",
       "</div>"
      ],
      "text/plain": [
       "   state  zipcode_count\n",
       "0     CA             19\n",
       "4     MA             13\n",
       "5     MN              6\n",
       "7     OH              5\n",
       "9     RI              3\n",
       "10    TX              3\n",
       "1     CO              2\n",
       "2     IA              2\n",
       "3     IL              1\n",
       "6     NY              1\n",
       "8     OK              1\n",
       "11    UT              1\n",
       "12    WA              1"
      ]
     },
     "execution_count": 8,
     "metadata": {},
     "output_type": "execute_result"
    }
   ],
   "source": [
    "#States with the highest# of windfarms (given that the merged data only contains states that have zillow housing data)\n",
    "df_states = df_me[['state','zipcode']]\n",
    "\n",
    "df_grouped = df_states.groupby(['state','zipcode']).size().reset_index(name='zipcode_count')\n",
    "\n",
    "df_grouped2 = df_grouped.groupby(['state']).size().reset_index(name='zipcode_count')\n",
    "\n",
    "df_grouped2 = df_grouped2.sort_values('zipcode_count',ascending=False)\n",
    "\n",
    "df_grouped2"
   ]
  },
  {
   "cell_type": "code",
   "execution_count": 9,
   "metadata": {},
   "outputs": [
    {
     "data": {
      "text/html": [
       "<div>\n",
       "<style scoped>\n",
       "    .dataframe tbody tr th:only-of-type {\n",
       "        vertical-align: middle;\n",
       "    }\n",
       "\n",
       "    .dataframe tbody tr th {\n",
       "        vertical-align: top;\n",
       "    }\n",
       "\n",
       "    .dataframe thead th {\n",
       "        text-align: right;\n",
       "    }\n",
       "</style>\n",
       "<table border=\"1\" class=\"dataframe\">\n",
       "  <thead>\n",
       "    <tr style=\"text-align: right;\">\n",
       "      <th></th>\n",
       "      <th>state</th>\n",
       "      <th>zipcode_count</th>\n",
       "    </tr>\n",
       "  </thead>\n",
       "  <tbody>\n",
       "    <tr>\n",
       "      <th>3</th>\n",
       "      <td>IL</td>\n",
       "      <td>1</td>\n",
       "    </tr>\n",
       "    <tr>\n",
       "      <th>6</th>\n",
       "      <td>NY</td>\n",
       "      <td>1</td>\n",
       "    </tr>\n",
       "    <tr>\n",
       "      <th>8</th>\n",
       "      <td>OK</td>\n",
       "      <td>1</td>\n",
       "    </tr>\n",
       "    <tr>\n",
       "      <th>11</th>\n",
       "      <td>UT</td>\n",
       "      <td>1</td>\n",
       "    </tr>\n",
       "    <tr>\n",
       "      <th>12</th>\n",
       "      <td>WA</td>\n",
       "      <td>1</td>\n",
       "    </tr>\n",
       "  </tbody>\n",
       "</table>\n",
       "</div>"
      ],
      "text/plain": [
       "   state  zipcode_count\n",
       "3     IL              1\n",
       "6     NY              1\n",
       "8     OK              1\n",
       "11    UT              1\n",
       "12    WA              1"
      ]
     },
     "execution_count": 9,
     "metadata": {},
     "output_type": "execute_result"
    }
   ],
   "source": [
    "#States with the lowest # of zipcodes w/windfarms (given that the merged data only contains states that have zillow housing data)\n",
    "df_grouped2.tail(5)"
   ]
  },
  {
   "cell_type": "code",
   "execution_count": 10,
   "metadata": {},
   "outputs": [
    {
     "data": {
      "text/html": [
       "<div>\n",
       "<style scoped>\n",
       "    .dataframe tbody tr th:only-of-type {\n",
       "        vertical-align: middle;\n",
       "    }\n",
       "\n",
       "    .dataframe tbody tr th {\n",
       "        vertical-align: top;\n",
       "    }\n",
       "\n",
       "    .dataframe thead th {\n",
       "        text-align: right;\n",
       "    }\n",
       "</style>\n",
       "<table border=\"1\" class=\"dataframe\">\n",
       "  <thead>\n",
       "    <tr style=\"text-align: right;\">\n",
       "      <th></th>\n",
       "      <th>state</th>\n",
       "      <th>project_name</th>\n",
       "      <th>zipcode</th>\n",
       "      <th>valid_count</th>\n",
       "      <th>nan_count</th>\n",
       "      <th>total_count</th>\n",
       "    </tr>\n",
       "  </thead>\n",
       "  <tbody>\n",
       "    <tr>\n",
       "      <th>75</th>\n",
       "      <td>CA</td>\n",
       "      <td>Inland Empire Utility Agency</td>\n",
       "      <td>91739</td>\n",
       "      <td>130</td>\n",
       "      <td>0</td>\n",
       "      <td>130</td>\n",
       "    </tr>\n",
       "    <tr>\n",
       "      <th>2864</th>\n",
       "      <td>CA</td>\n",
       "      <td>unknown Kern County</td>\n",
       "      <td>93561</td>\n",
       "      <td>130</td>\n",
       "      <td>0</td>\n",
       "      <td>130</td>\n",
       "    </tr>\n",
       "    <tr>\n",
       "      <th>2863</th>\n",
       "      <td>CA</td>\n",
       "      <td>Alta IV</td>\n",
       "      <td>93561</td>\n",
       "      <td>130</td>\n",
       "      <td>0</td>\n",
       "      <td>130</td>\n",
       "    </tr>\n",
       "  </tbody>\n",
       "</table>\n",
       "</div>"
      ],
      "text/plain": [
       "     state                  project_name  zipcode  valid_count  nan_count  \\\n",
       "75      CA  Inland Empire Utility Agency    91739          130          0   \n",
       "2864    CA           unknown Kern County    93561          130          0   \n",
       "2863    CA                       Alta IV    93561          130          0   \n",
       "\n",
       "      total_count  \n",
       "75            130  \n",
       "2864          130  \n",
       "2863          130  "
      ]
     },
     "execution_count": 10,
     "metadata": {},
     "output_type": "execute_result"
    }
   ],
   "source": [
    "#Using top 5 states with windfarms, determine if there is sufficient housing data available for each state\n",
    "dfs = df_me\n",
    "\n",
    "dfs = dfs.drop(dfs.columns[[0,2,3,5,6,7,8,9,11,12,13,14,15]], axis=1)\n",
    "\n",
    "dfs2 = dfs[(dfs.state == 'CA') | (dfs.state == 'MA') | (dfs.state == 'MN') | (dfs.state == 'OH') | (dfs.state == 'RI')]\n",
    "\n",
    "dfs3 = dfs2.drop_duplicates(subset='project_name', keep='first')\n",
    "\n",
    "dfs3['nan_count'] = dfs3.isnull().sum(axis=1).tolist()\n",
    "dfs3['valid_count'] = dfs3.notnull().sum(axis=1).tolist()\n",
    "dfs3['total_count'] = dfs3['nan_count'] + dfs3['valid_count']\n",
    "\n",
    "dfs4 = dfs3[['state','project_name','zipcode','valid_count','nan_count','total_count']]\n",
    "\n",
    "#CA - sufficient housing data (1 of 5)\n",
    "dfs_CA = dfs4.loc[dfs4['state'] == 'CA']\n",
    "dfs_CA = dfs_CA.sort_values(by=['nan_count'])\n",
    "\n",
    "dfs_CA.head(3)"
   ]
  },
  {
   "cell_type": "code",
   "execution_count": 11,
   "metadata": {},
   "outputs": [
    {
     "data": {
      "text/html": [
       "<div>\n",
       "<style scoped>\n",
       "    .dataframe tbody tr th:only-of-type {\n",
       "        vertical-align: middle;\n",
       "    }\n",
       "\n",
       "    .dataframe tbody tr th {\n",
       "        vertical-align: top;\n",
       "    }\n",
       "\n",
       "    .dataframe thead th {\n",
       "        text-align: right;\n",
       "    }\n",
       "</style>\n",
       "<table border=\"1\" class=\"dataframe\">\n",
       "  <thead>\n",
       "    <tr style=\"text-align: right;\">\n",
       "      <th></th>\n",
       "      <th>state</th>\n",
       "      <th>project_name</th>\n",
       "      <th>zipcode</th>\n",
       "      <th>valid_count</th>\n",
       "      <th>nan_count</th>\n",
       "      <th>total_count</th>\n",
       "    </tr>\n",
       "  </thead>\n",
       "  <tbody>\n",
       "    <tr>\n",
       "      <th>5</th>\n",
       "      <td>MA</td>\n",
       "      <td>Scituate Wind</td>\n",
       "      <td>2066</td>\n",
       "      <td>129</td>\n",
       "      <td>1</td>\n",
       "      <td>130</td>\n",
       "    </tr>\n",
       "    <tr>\n",
       "      <th>7</th>\n",
       "      <td>MA</td>\n",
       "      <td>Charlestown Wind Turbine</td>\n",
       "      <td>2129</td>\n",
       "      <td>129</td>\n",
       "      <td>1</td>\n",
       "      <td>130</td>\n",
       "    </tr>\n",
       "    <tr>\n",
       "      <th>11</th>\n",
       "      <td>MA</td>\n",
       "      <td>City of Medford</td>\n",
       "      <td>2155</td>\n",
       "      <td>129</td>\n",
       "      <td>1</td>\n",
       "      <td>130</td>\n",
       "    </tr>\n",
       "  </tbody>\n",
       "</table>\n",
       "</div>"
      ],
      "text/plain": [
       "   state              project_name  zipcode  valid_count  nan_count  \\\n",
       "5     MA             Scituate Wind     2066          129          1   \n",
       "7     MA  Charlestown Wind Turbine     2129          129          1   \n",
       "11    MA           City of Medford     2155          129          1   \n",
       "\n",
       "    total_count  \n",
       "5           130  \n",
       "7           130  \n",
       "11          130  "
      ]
     },
     "execution_count": 11,
     "metadata": {},
     "output_type": "execute_result"
    }
   ],
   "source": [
    "#MA - sufficient housing data (2 of 5)\n",
    "dfs_MA = dfs4.loc[dfs4['state'] == 'MA'].sort_values(by='nan_count')\n",
    "dfs_MA.head(3)"
   ]
  },
  {
   "cell_type": "code",
   "execution_count": 12,
   "metadata": {},
   "outputs": [
    {
     "data": {
      "text/html": [
       "<div>\n",
       "<style scoped>\n",
       "    .dataframe tbody tr th:only-of-type {\n",
       "        vertical-align: middle;\n",
       "    }\n",
       "\n",
       "    .dataframe tbody tr th {\n",
       "        vertical-align: top;\n",
       "    }\n",
       "\n",
       "    .dataframe thead th {\n",
       "        text-align: right;\n",
       "    }\n",
       "</style>\n",
       "<table border=\"1\" class=\"dataframe\">\n",
       "  <thead>\n",
       "    <tr style=\"text-align: right;\">\n",
       "      <th></th>\n",
       "      <th>state</th>\n",
       "      <th>project_name</th>\n",
       "      <th>zipcode</th>\n",
       "      <th>valid_count</th>\n",
       "      <th>nan_count</th>\n",
       "      <th>total_count</th>\n",
       "    </tr>\n",
       "  </thead>\n",
       "  <tbody>\n",
       "    <tr>\n",
       "      <th>33</th>\n",
       "      <td>MN</td>\n",
       "      <td>Hometown WindPower North St. Paul</td>\n",
       "      <td>55109</td>\n",
       "      <td>130</td>\n",
       "      <td>0</td>\n",
       "      <td>130</td>\n",
       "    </tr>\n",
       "    <tr>\n",
       "      <th>32</th>\n",
       "      <td>MN</td>\n",
       "      <td>Eolos</td>\n",
       "      <td>55068</td>\n",
       "      <td>88</td>\n",
       "      <td>42</td>\n",
       "      <td>130</td>\n",
       "    </tr>\n",
       "    <tr>\n",
       "      <th>37</th>\n",
       "      <td>MN</td>\n",
       "      <td>Shakopee Mdewakanton Sioux Community Wind</td>\n",
       "      <td>55379</td>\n",
       "      <td>76</td>\n",
       "      <td>54</td>\n",
       "      <td>130</td>\n",
       "    </tr>\n",
       "  </tbody>\n",
       "</table>\n",
       "</div>"
      ],
      "text/plain": [
       "   state                                project_name  zipcode  valid_count  \\\n",
       "33    MN           Hometown WindPower North St. Paul    55109          130   \n",
       "32    MN                                       Eolos    55068           88   \n",
       "37    MN  Shakopee Mdewakanton Sioux Community Wind     55379           76   \n",
       "\n",
       "    nan_count  total_count  \n",
       "33          0          130  \n",
       "32         42          130  \n",
       "37         54          130  "
      ]
     },
     "execution_count": 12,
     "metadata": {},
     "output_type": "execute_result"
    }
   ],
   "source": [
    "#MN - sufficient housing data (3 of 5)\n",
    "dfs_MN = dfs4.loc[dfs4['state'] == 'MN'].sort_values(by='nan_count')\n",
    "dfs_MN.head(3)"
   ]
  },
  {
   "cell_type": "code",
   "execution_count": 13,
   "metadata": {},
   "outputs": [
    {
     "data": {
      "text/html": [
       "<div>\n",
       "<style scoped>\n",
       "    .dataframe tbody tr th:only-of-type {\n",
       "        vertical-align: middle;\n",
       "    }\n",
       "\n",
       "    .dataframe tbody tr th {\n",
       "        vertical-align: top;\n",
       "    }\n",
       "\n",
       "    .dataframe thead th {\n",
       "        text-align: right;\n",
       "    }\n",
       "</style>\n",
       "<table border=\"1\" class=\"dataframe\">\n",
       "  <thead>\n",
       "    <tr style=\"text-align: right;\">\n",
       "      <th></th>\n",
       "      <th>state</th>\n",
       "      <th>project_name</th>\n",
       "      <th>zipcode</th>\n",
       "      <th>valid_count</th>\n",
       "      <th>nan_count</th>\n",
       "      <th>total_count</th>\n",
       "    </tr>\n",
       "  </thead>\n",
       "  <tbody>\n",
       "    <tr>\n",
       "      <th>27</th>\n",
       "      <td>OH</td>\n",
       "      <td>unknown Lorain County</td>\n",
       "      <td>44039</td>\n",
       "      <td>129</td>\n",
       "      <td>1</td>\n",
       "      <td>130</td>\n",
       "    </tr>\n",
       "    <tr>\n",
       "      <th>29</th>\n",
       "      <td>OH</td>\n",
       "      <td>Three D Metals Corporation</td>\n",
       "      <td>44212</td>\n",
       "      <td>81</td>\n",
       "      <td>49</td>\n",
       "      <td>130</td>\n",
       "    </tr>\n",
       "    <tr>\n",
       "      <th>25</th>\n",
       "      <td>OH</td>\n",
       "      <td>Clay High School</td>\n",
       "      <td>43616</td>\n",
       "      <td>77</td>\n",
       "      <td>53</td>\n",
       "      <td>130</td>\n",
       "    </tr>\n",
       "  </tbody>\n",
       "</table>\n",
       "</div>"
      ],
      "text/plain": [
       "   state                project_name  zipcode  valid_count  nan_count  \\\n",
       "27    OH       unknown Lorain County    44039          129          1   \n",
       "29    OH  Three D Metals Corporation    44212           81         49   \n",
       "25    OH            Clay High School    43616           77         53   \n",
       "\n",
       "    total_count  \n",
       "27          130  \n",
       "29          130  \n",
       "25          130  "
      ]
     },
     "execution_count": 13,
     "metadata": {},
     "output_type": "execute_result"
    }
   ],
   "source": [
    "#OH - sufficient housing data (4 of 5)\n",
    "dfs_OH = dfs4.loc[dfs4['state'] == 'OH'].sort_values(by='nan_count')\n",
    "dfs_OH.head(3)"
   ]
  },
  {
   "cell_type": "code",
   "execution_count": 14,
   "metadata": {},
   "outputs": [
    {
     "data": {
      "text/html": [
       "<div>\n",
       "<style scoped>\n",
       "    .dataframe tbody tr th:only-of-type {\n",
       "        vertical-align: middle;\n",
       "    }\n",
       "\n",
       "    .dataframe tbody tr th {\n",
       "        vertical-align: top;\n",
       "    }\n",
       "\n",
       "    .dataframe thead th {\n",
       "        text-align: right;\n",
       "    }\n",
       "</style>\n",
       "<table border=\"1\" class=\"dataframe\">\n",
       "  <thead>\n",
       "    <tr style=\"text-align: right;\">\n",
       "      <th></th>\n",
       "      <th>state</th>\n",
       "      <th>project_name</th>\n",
       "      <th>zipcode</th>\n",
       "      <th>valid_count</th>\n",
       "      <th>nan_count</th>\n",
       "      <th>total_count</th>\n",
       "    </tr>\n",
       "  </thead>\n",
       "  <tbody>\n",
       "    <tr>\n",
       "      <th>18</th>\n",
       "      <td>RI</td>\n",
       "      <td>WED Portsmouth 1</td>\n",
       "      <td>2871</td>\n",
       "      <td>57</td>\n",
       "      <td>73</td>\n",
       "      <td>130</td>\n",
       "    </tr>\n",
       "    <tr>\n",
       "      <th>19</th>\n",
       "      <td>RI</td>\n",
       "      <td>Hodges Badge</td>\n",
       "      <td>2871</td>\n",
       "      <td>57</td>\n",
       "      <td>73</td>\n",
       "      <td>130</td>\n",
       "    </tr>\n",
       "    <tr>\n",
       "      <th>20</th>\n",
       "      <td>RI</td>\n",
       "      <td>Portsmouth Abbey School</td>\n",
       "      <td>2871</td>\n",
       "      <td>57</td>\n",
       "      <td>73</td>\n",
       "      <td>130</td>\n",
       "    </tr>\n",
       "  </tbody>\n",
       "</table>\n",
       "</div>"
      ],
      "text/plain": [
       "   state             project_name  zipcode  valid_count  nan_count  \\\n",
       "18    RI         WED Portsmouth 1     2871           57         73   \n",
       "19    RI             Hodges Badge     2871           57         73   \n",
       "20    RI  Portsmouth Abbey School     2871           57         73   \n",
       "\n",
       "    total_count  \n",
       "18          130  \n",
       "19          130  \n",
       "20          130  "
      ]
     },
     "execution_count": 14,
     "metadata": {},
     "output_type": "execute_result"
    }
   ],
   "source": [
    "#RI - sufficient housing data (5 of 5)\n",
    "dfs_RI = dfs4.loc[dfs4['state'] == 'RI'].sort_values(by='nan_count')\n",
    "dfs_RI.head(3)"
   ]
  },
  {
   "cell_type": "code",
   "execution_count": 15,
   "metadata": {},
   "outputs": [
    {
     "data": {
      "image/png": "[encoded data removed]",
      "text/plain": [
       "<Figure size 432x288 with 1 Axes>"
      ]
     },
     "metadata": {},
     "output_type": "display_data"
    }
   ],
   "source": [
    "#Visualize the population density for the five states as a swarmplot\n",
    "dfp = df_me\n",
    "\n",
    "dfp = dfp[['state','project_name','pop_density']]\n",
    "\n",
    "dfp2 = dfp[(dfp.state == 'CA') | (dfp.state == 'MA') | (dfp.state == 'RI') | (dfp.state == 'MN') | (dfp.state == 'OH')]\n",
    "\n",
    "dfp3 = dfp2.drop_duplicates(subset='project_name', keep='first')\n",
    "\n",
    "_ = sns.swarmplot(x='state', y='pop_density', data=dfp3)\n",
    "_ = plt.xlabel('state')\n",
    "_ = plt.ylabel('population density')\n",
    "\n",
    "plt.show()"
   ]
  },
  {
   "cell_type": "code",
   "execution_count": 16,
   "metadata": {},
   "outputs": [
    {
     "name": "stdout",
     "output_type": "stream",
     "text": [
      "Minimum population density: pop_density    118\n",
      "dtype: int64\n",
      "Maximum population density: pop_density    15907\n",
      "dtype: int64\n"
     ]
    }
   ],
   "source": [
    "#Display the minimum and maximum population density for the merged dataset\n",
    "df_pop = df_me[['pop_density']].sort_values(by='pop_density')\n",
    "\n",
    "min_pop_density = df_pop.min()\n",
    "max_pop_density = df_pop.max()\n",
    "\n",
    "print('Minimum population density: ' + str(min_pop_density))\n",
    "print('Maximum population density: ' + str(max_pop_density))"
   ]
  },
  {
   "cell_type": "code",
   "execution_count": 17,
   "metadata": {},
   "outputs": [
    {
     "data": {
      "image/png": "[encoded data removed]",
      "text/plain": [
       "<Figure size 432x288 with 1 Axes>"
      ]
     },
     "metadata": {},
     "output_type": "display_data"
    }
   ],
   "source": [
    "#Visualize the median household income for the five states as a swarmplot\n",
    "dfp = df_me\n",
    "\n",
    "dfp = dfp[['state','project_name','med_household_income']]\n",
    "\n",
    "dfp2 = dfp[(dfp.state == 'CA') | (dfp.state == 'MA') | (dfp.state == 'RI') | (dfp.state == 'MN') | (dfp.state == 'OH')]\n",
    "\n",
    "dfp3 = dfp2.drop_duplicates(subset='project_name', keep='first')\n",
    "\n",
    "_ = sns.swarmplot(x='state', y='med_household_income', data=dfp3)\n",
    "_ = plt.xlabel('state')\n",
    "_ = plt.ylabel('median income')\n",
    "\n",
    "plt.show()"
   ]
  },
  {
   "cell_type": "code",
   "execution_count": 18,
   "metadata": {},
   "outputs": [
    {
     "name": "stdout",
     "output_type": "stream",
     "text": [
      "Minimum median income: med_household_income    33682.0\n",
      "dtype: float64\n",
      "Maximum median income: med_household_income    120202.0\n",
      "dtype: float64\n"
     ]
    }
   ],
   "source": [
    "#Display the minimum and maximum median household income for the merged dataset\n",
    "df_inc = df_me[['med_household_income']]\n",
    "\n",
    "min_inc = df_inc.min()\n",
    "max_inc = df_inc.max()\n",
    "\n",
    "print('Minimum median income: ' + str(min_inc))\n",
    "print('Maximum median income: ' + str(max_inc))"
   ]
  },
  {
   "cell_type": "code",
   "execution_count": 19,
   "metadata": {},
   "outputs": [
    {
     "data": {
      "image/png": "[encoded data removed]",
      "text/plain": [
       "<Figure size 360x360 with 1 Axes>"
      ]
     },
     "metadata": {},
     "output_type": "display_data"
    }
   ],
   "source": [
    "#Display the relationship between population median and median household income for CA as a scatterplot\n",
    "dsc = df_me[['state','pop_density','med_household_income']]\n",
    "\n",
    "dsc2 = dsc[(dsc.state == 'CA')]\n",
    "\n",
    "current_palette = sns.color_palette('dark')\n",
    "sns.set_palette(current_palette)\n",
    "\n",
    "_ = sns.lmplot(x='med_household_income', y='pop_density', hue='state', fit_reg=True, legend=False, data=dsc2)\n",
    "_ = plt.title('California Population Density vs Median Income', fontsize=12)\n",
    "\n",
    "plt.show()"
   ]
  },
  {
   "cell_type": "code",
   "execution_count": 20,
   "metadata": {},
   "outputs": [
    {
     "data": {
      "image/png": "[encoded data removed]",
      "text/plain": [
       "<Figure size 360x360 with 1 Axes>"
      ]
     },
     "metadata": {},
     "output_type": "display_data"
    }
   ],
   "source": [
    "#Display the relationship between population median and median household income for CA as a scatterplot\n",
    "dsc = df_me[['state','pop_density','med_household_income']]\n",
    "\n",
    "dsc2 = dsc[(dsc.state == 'MA')]\n",
    "\n",
    "current_palette = sns.color_palette('Set1')\n",
    "sns.set_palette(current_palette)\n",
    "\n",
    "_ = sns.lmplot(x='med_household_income', y='pop_density', hue='state', legend=False, fit_reg=True, data=dsc2)\n",
    "_ = plt.title('Massachusetts Population Density vs Median Income', fontsize=12)\n",
    "\n",
    "plt.show()"
   ]
  }
 ],
 "metadata": {
  "kernelspec": {
   "display_name": "Python 3",
   "language": "python",
   "name": "python3"
  },
  "language_info": {
   "codemirror_mode": {
    "name": "ipython",
    "version": 3
   },
   "file_extension": ".py",
   "mimetype": "text/x-python",
   "name": "python",
   "nbconvert_exporter": "python",
   "pygments_lexer": "ipython3",
   "version": "3.6.5"
  }
 },
 "nbformat": 4,
 "nbformat_minor": 2
}
