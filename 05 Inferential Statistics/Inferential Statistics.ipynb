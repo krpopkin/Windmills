{
 "cells": [
  {
   "cell_type": "markdown",
   "metadata": {},
   "source": [
    "<div class=\"span5 alert alert-success\">\n",
    "<p> This workbook contains inferential statistics for the Windfarm project </p>\n",
    "</div>"
   ]
  },
  {
   "cell_type": "markdown",
   "metadata": {},
   "source": [
    "<div class=\"span5 alert alert-success\">\n",
    "<p> Prepare </p>\n",
    "</div>"
   ]
  },
  {
   "cell_type": "code",
   "execution_count": 2,
   "metadata": {},
   "outputs": [],
   "source": [
    "import warnings\n",
    "warnings.filterwarnings('ignore')"
   ]
  },
  {
   "cell_type": "code",
   "execution_count": 3,
   "metadata": {},
   "outputs": [],
   "source": [
    "#Imports\n",
    "import pandas as pd\n",
    "import numpy as np\n",
    "import matplotlib.pyplot as plt\n",
    "import seaborn as sns\n",
    "import statsmodels.api as sm"
   ]
  },
  {
   "cell_type": "code",
   "execution_count": 4,
   "metadata": {},
   "outputs": [
    {
     "name": "stdout",
     "output_type": "stream",
     "text": [
      "C:\\Users\\Ken\\Documents\\KenP\\Applications-DataScience\\SpringboardCourseWork\\CapstoneProject1Repository\\09 CapstoneProject1Data\\InferentialStatsData\n"
     ]
    },
    {
     "data": {
      "text/html": [
       "<div>\n",
       "<style scoped>\n",
       "    .dataframe tbody tr th:only-of-type {\n",
       "        vertical-align: middle;\n",
       "    }\n",
       "\n",
       "    .dataframe tbody tr th {\n",
       "        vertical-align: top;\n",
       "    }\n",
       "\n",
       "    .dataframe thead th {\n",
       "        text-align: right;\n",
       "    }\n",
       "</style>\n",
       "<table border=\"1\" class=\"dataframe\">\n",
       "  <thead>\n",
       "    <tr style=\"text-align: right;\">\n",
       "      <th></th>\n",
       "      <th>Unnamed: 0</th>\n",
       "      <th>wf_zipcode</th>\n",
       "      <th>state</th>\n",
       "      <th>county</th>\n",
       "      <th>latitude</th>\n",
       "      <th>longitude</th>\n",
       "      <th>windmills_count</th>\n",
       "      <th>pop_density</th>\n",
       "      <th>med_household_income</th>\n",
       "      <th>zipcode_withno_wf</th>\n",
       "      <th>...</th>\n",
       "      <th>2018-01</th>\n",
       "      <th>percent_2010_change</th>\n",
       "      <th>percent_2011_change</th>\n",
       "      <th>percent_2012_change</th>\n",
       "      <th>percent_2013_change</th>\n",
       "      <th>percent_2014_change</th>\n",
       "      <th>percent_2015_change</th>\n",
       "      <th>percent_2016_change</th>\n",
       "      <th>percent_2017_change</th>\n",
       "      <th>percent_2018_change</th>\n",
       "    </tr>\n",
       "  </thead>\n",
       "  <tbody>\n",
       "    <tr>\n",
       "      <th>0</th>\n",
       "      <td>0</td>\n",
       "      <td>1507</td>\n",
       "      <td>MA</td>\n",
       "      <td>Worcester County</td>\n",
       "      <td>42.110889</td>\n",
       "      <td>-72.003899</td>\n",
       "      <td>1</td>\n",
       "      <td>308</td>\n",
       "      <td>93963.0</td>\n",
       "      <td>0</td>\n",
       "      <td>...</td>\n",
       "      <td>276000.0</td>\n",
       "      <td>0.0</td>\n",
       "      <td>0.0</td>\n",
       "      <td>0.0</td>\n",
       "      <td>0.0</td>\n",
       "      <td>0.0</td>\n",
       "      <td>0.0</td>\n",
       "      <td>-0.083052</td>\n",
       "      <td>0.002946</td>\n",
       "      <td>0.013216</td>\n",
       "    </tr>\n",
       "  </tbody>\n",
       "</table>\n",
       "<p>1 rows × 33 columns</p>\n",
       "</div>"
      ],
      "text/plain": [
       "   Unnamed: 0  wf_zipcode state            county   latitude  longitude  \\\n",
       "0           0        1507    MA  Worcester County  42.110889 -72.003899   \n",
       "\n",
       "   windmills_count  pop_density  med_household_income  zipcode_withno_wf  \\\n",
       "0                1          308               93963.0                  0   \n",
       "\n",
       "          ...            2018-01  percent_2010_change  percent_2011_change  \\\n",
       "0         ...           276000.0                  0.0                  0.0   \n",
       "\n",
       "  percent_2012_change  percent_2013_change  percent_2014_change  \\\n",
       "0                 0.0                  0.0                  0.0   \n",
       "\n",
       "   percent_2015_change  percent_2016_change  percent_2017_change  \\\n",
       "0                  0.0            -0.083052             0.002946   \n",
       "\n",
       "   percent_2018_change  \n",
       "0             0.013216  \n",
       "\n",
       "[1 rows x 33 columns]"
      ]
     },
     "execution_count": 4,
     "metadata": {},
     "output_type": "execute_result"
    }
   ],
   "source": [
    "#Load the zipcodes with a windfarm csv file to a dataframe\n",
    "%cd C:\\Users\\Ken\\Documents\\KenP\\Applications-DataScience\\SpringboardCourseWork\\CapstoneProject1Repository\\09 CapstoneProject1Data\\InferentialStatsData\n",
    "\n",
    "df_wfzc = pd.read_csv('project1_zipcodes_with_windfarms.csv')\n",
    "\n",
    "df_wfzc.head(1)"
   ]
  },
  {
   "cell_type": "code",
   "execution_count": 5,
   "metadata": {},
   "outputs": [
    {
     "name": "stdout",
     "output_type": "stream",
     "text": [
      "[WinError 3] The system cannot find the path specified: 'C:\\\\Users\\\\Ken\\\\Documents\\\\KenP\\\\Applications-DataScience\\\\SpringboardCourseWork\\\\CapstoneProject1Downloads\\\\InferentialStatsData'\n",
      "C:\\Users\\Ken\\Documents\\KenP\\Applications-DataScience\\SpringboardCourseWork\\CapstoneProject1Repository\\09 CapstoneProject1Data\\InferentialStatsData\n"
     ]
    },
    {
     "data": {
      "text/html": [
       "<div>\n",
       "<style scoped>\n",
       "    .dataframe tbody tr th:only-of-type {\n",
       "        vertical-align: middle;\n",
       "    }\n",
       "\n",
       "    .dataframe tbody tr th {\n",
       "        vertical-align: top;\n",
       "    }\n",
       "\n",
       "    .dataframe thead th {\n",
       "        text-align: right;\n",
       "    }\n",
       "</style>\n",
       "<table border=\"1\" class=\"dataframe\">\n",
       "  <thead>\n",
       "    <tr style=\"text-align: right;\">\n",
       "      <th></th>\n",
       "      <th>Unnamed: 0</th>\n",
       "      <th>wf_zipcode</th>\n",
       "      <th>state</th>\n",
       "      <th>county</th>\n",
       "      <th>latitude</th>\n",
       "      <th>longitude</th>\n",
       "      <th>windmills_count</th>\n",
       "      <th>pop_density</th>\n",
       "      <th>med_household_income</th>\n",
       "      <th>zipcode_withno_wf</th>\n",
       "      <th>...</th>\n",
       "      <th>2018-01</th>\n",
       "      <th>percent_2010_change</th>\n",
       "      <th>percent_2011_change</th>\n",
       "      <th>percent_2012_change</th>\n",
       "      <th>percent_2013_change</th>\n",
       "      <th>percent_2014_change</th>\n",
       "      <th>percent_2015_change</th>\n",
       "      <th>percent_2016_change</th>\n",
       "      <th>percent_2017_change</th>\n",
       "      <th>percent_2018_change</th>\n",
       "    </tr>\n",
       "  </thead>\n",
       "  <tbody>\n",
       "    <tr>\n",
       "      <th>0</th>\n",
       "      <td>0</td>\n",
       "      <td>1507</td>\n",
       "      <td>MA</td>\n",
       "      <td>Worcester County</td>\n",
       "      <td>42.15</td>\n",
       "      <td>-71.52</td>\n",
       "      <td>0</td>\n",
       "      <td>1886.0</td>\n",
       "      <td>66547</td>\n",
       "      <td>1757</td>\n",
       "      <td>...</td>\n",
       "      <td>290300.0</td>\n",
       "      <td>0.0</td>\n",
       "      <td>0.0</td>\n",
       "      <td>0.0</td>\n",
       "      <td>0.129384</td>\n",
       "      <td>0.086446</td>\n",
       "      <td>0.020857</td>\n",
       "      <td>0.02535</td>\n",
       "      <td>0.058303</td>\n",
       "      <td>0.012204</td>\n",
       "    </tr>\n",
       "  </tbody>\n",
       "</table>\n",
       "<p>1 rows × 33 columns</p>\n",
       "</div>"
      ],
      "text/plain": [
       "   Unnamed: 0  wf_zipcode state            county  latitude  longitude  \\\n",
       "0           0        1507    MA  Worcester County     42.15     -71.52   \n",
       "\n",
       "   windmills_count  pop_density  med_household_income  zipcode_withno_wf  \\\n",
       "0                0       1886.0                 66547               1757   \n",
       "\n",
       "          ...            2018-01  percent_2010_change  percent_2011_change  \\\n",
       "0         ...           290300.0                  0.0                  0.0   \n",
       "\n",
       "  percent_2012_change  percent_2013_change  percent_2014_change  \\\n",
       "0                 0.0             0.129384             0.086446   \n",
       "\n",
       "   percent_2015_change  percent_2016_change  percent_2017_change  \\\n",
       "0             0.020857              0.02535             0.058303   \n",
       "\n",
       "   percent_2018_change  \n",
       "0             0.012204  \n",
       "\n",
       "[1 rows x 33 columns]"
      ]
     },
     "execution_count": 5,
     "metadata": {},
     "output_type": "execute_result"
    }
   ],
   "source": [
    "#Load the zipcodes without a windfarm csv file to a dataframe\n",
    "%cd C:\\Users\\Ken\\Documents\\KenP\\Applications-DataScience\\SpringboardCourseWork\\CapstoneProject1Downloads\\InferentialStatsData\n",
    "\n",
    "df_wfnz = pd.read_csv('project1_zipcodes_withno_windfarms.csv')\n",
    "\n",
    "df_wfnz.head(1)"
   ]
  },
  {
   "cell_type": "code",
   "execution_count": 6,
   "metadata": {},
   "outputs": [
    {
     "data": {
      "text/html": [
       "<div>\n",
       "<style scoped>\n",
       "    .dataframe tbody tr th:only-of-type {\n",
       "        vertical-align: middle;\n",
       "    }\n",
       "\n",
       "    .dataframe tbody tr th {\n",
       "        vertical-align: top;\n",
       "    }\n",
       "\n",
       "    .dataframe thead th {\n",
       "        text-align: right;\n",
       "    }\n",
       "</style>\n",
       "<table border=\"1\" class=\"dataframe\">\n",
       "  <thead>\n",
       "    <tr style=\"text-align: right;\">\n",
       "      <th></th>\n",
       "      <th>Unnamed: 0_x</th>\n",
       "      <th>wf_zipcode</th>\n",
       "      <th>state_x</th>\n",
       "      <th>county_x</th>\n",
       "      <th>latitude_x</th>\n",
       "      <th>longitude_x</th>\n",
       "      <th>windmills_count_x</th>\n",
       "      <th>pop_density_x</th>\n",
       "      <th>med_household_income_x</th>\n",
       "      <th>zipcode_withno_wf_x</th>\n",
       "      <th>...</th>\n",
       "      <th>2018-01_y</th>\n",
       "      <th>percent_2010_change_y</th>\n",
       "      <th>percent_2011_change_y</th>\n",
       "      <th>percent_2012_change_y</th>\n",
       "      <th>percent_2013_change_y</th>\n",
       "      <th>percent_2014_change_y</th>\n",
       "      <th>percent_2015_change_y</th>\n",
       "      <th>percent_2016_change_y</th>\n",
       "      <th>percent_2017_change_y</th>\n",
       "      <th>percent_2018_change_y</th>\n",
       "    </tr>\n",
       "  </thead>\n",
       "  <tbody>\n",
       "    <tr>\n",
       "      <th>0</th>\n",
       "      <td>0</td>\n",
       "      <td>1507</td>\n",
       "      <td>MA</td>\n",
       "      <td>Worcester County</td>\n",
       "      <td>42.110889</td>\n",
       "      <td>-72.003899</td>\n",
       "      <td>1</td>\n",
       "      <td>308</td>\n",
       "      <td>93963.0</td>\n",
       "      <td>0</td>\n",
       "      <td>...</td>\n",
       "      <td>290300.0</td>\n",
       "      <td>0.0</td>\n",
       "      <td>0.0</td>\n",
       "      <td>0.0</td>\n",
       "      <td>0.129384</td>\n",
       "      <td>0.086446</td>\n",
       "      <td>0.020857</td>\n",
       "      <td>0.02535</td>\n",
       "      <td>0.058303</td>\n",
       "      <td>0.012204</td>\n",
       "    </tr>\n",
       "  </tbody>\n",
       "</table>\n",
       "<p>1 rows × 65 columns</p>\n",
       "</div>"
      ],
      "text/plain": [
       "   Unnamed: 0_x  wf_zipcode state_x          county_x  latitude_x  \\\n",
       "0             0        1507      MA  Worcester County   42.110889   \n",
       "\n",
       "   longitude_x  windmills_count_x  pop_density_x  med_household_income_x  \\\n",
       "0   -72.003899                  1            308                 93963.0   \n",
       "\n",
       "   zipcode_withno_wf_x          ...            2018-01_y  \\\n",
       "0                    0          ...             290300.0   \n",
       "\n",
       "   percent_2010_change_y  percent_2011_change_y percent_2012_change_y  \\\n",
       "0                    0.0                    0.0                   0.0   \n",
       "\n",
       "   percent_2013_change_y  percent_2014_change_y  percent_2015_change_y  \\\n",
       "0               0.129384               0.086446               0.020857   \n",
       "\n",
       "   percent_2016_change_y  percent_2017_change_y  percent_2018_change_y  \n",
       "0                0.02535               0.058303               0.012204  \n",
       "\n",
       "[1 rows x 65 columns]"
      ]
     },
     "execution_count": 6,
     "metadata": {},
     "output_type": "execute_result"
    }
   ],
   "source": [
    "#Merge each zipcode with windfarms with the corresponding zipcode (25 miles away) without a windfarm\n",
    "#and write out to a dataframe and csv file\n",
    "\n",
    "#Merge in zip code, as inner join\n",
    "df_m = pd.merge(left=df_wfzc, right=df_wfnz, on=None, left_on='wf_zipcode', right_on='wf_zipcode')\n",
    "\n",
    "out_csv = 'project1_zipcodes_with_and_without_windfarms.csv'\n",
    "\n",
    "df_m.to_csv(out_csv)\n",
    "\n",
    "df_m.head(1)"
   ]
  },
  {
   "cell_type": "markdown",
   "metadata": {},
   "source": [
    "<div class=\"span5 alert alert-success\">\n",
    "<p> Correlations between pairs of independent variables </p>\n",
    "</div>"
   ]
  },
  {
   "cell_type": "code",
   "execution_count": 7,
   "metadata": {},
   "outputs": [
    {
     "name": "stdout",
     "output_type": "stream",
     "text": [
      "[[1.         0.47062856]\n",
      " [0.47062856 1.        ]]\n"
     ]
    },
    {
     "data": {
      "image/png": "[encoded data removed]",
      "text/plain": [
       "<Figure size 432x288 with 1 Axes>"
      ]
     },
     "metadata": {},
     "output_type": "display_data"
    }
   ],
   "source": [
    "#RESEARCH CORRELATION OF HOME VALUE CHANGES BETWEEN ZIP CODES WITH AND WITHOUT WINDFARMS\n",
    "\n",
    "#calculate percent change in value mean for years 2016 - 2018 for zip codes with windfarms\n",
    "df_zc_wf = df_m[['percent_2016_change_x','percent_2017_change_x','percent_2018_change_x']]\n",
    "df_zc_wf['wf_mean'] = df_zc_wf.mean(axis=1)\n",
    "df_zc_wf['wf_zipcode'] = df_m['wf_zipcode']\n",
    "#df_zc_wf['wf_mean'] = df_zc_wf.iloc[[0,1]].mean(axis=1)   - why does this work for only two rows then returns, NaN\n",
    "\n",
    "#calculate percent change in value mean for years 2016 - 2018 for zip codes without windfarms\n",
    "df_zc_nwf = df_m[['percent_2016_change_y','percent_2017_change_y','percent_2018_change_y']]\n",
    "df_zc_nwf['nwf_mean'] = df_zc_nwf.mean(axis=1)\n",
    "df_zc_nwf['nwf_zipcode'] = df_m['zipcode_withno_wf_y']\n",
    "\n",
    "#calculate pearson correlation coefficient for mean change in home value for zipcodes with windfarms and without windfarms\n",
    "df_corr = pd.DataFrame()\n",
    "df_corr['wf_mean'] = df_zc_wf['wf_mean']\n",
    "df_corr['nwf_mean'] = df_zc_nwf['nwf_mean']\n",
    "\n",
    "corr_value = np.corrcoef(df_corr['wf_mean'], df_corr['nwf_mean'])\n",
    "print(corr_value)\n",
    "\n",
    "# Make a scatter plot\n",
    "_ = plt.plot(df_corr['wf_mean'], df_corr['nwf_mean'],\n",
    "             marker='.', linestyle='none')\n",
    "\n",
    "# Label the axes\n",
    "_ = plt.xlabel('zip codes w/wf mean % value change')\n",
    "_ = plt.ylabel('zip codes without wf mean % value change')\n",
    "\n",
    "# Show the result\n",
    "plt.show()\n"
   ]
  },
  {
   "cell_type": "code",
   "execution_count": 8,
   "metadata": {},
   "outputs": [
    {
     "name": "stdout",
     "output_type": "stream",
     "text": [
      "zip codes with windfarm pop density corr coef: [[1.         0.22902256]\n",
      " [0.22902256 1.        ]]\n",
      "zip codes without windfarm pop density corr coef: [[1.         0.24720173]\n",
      " [0.24720173 1.        ]]\n"
     ]
    },
    {
     "data": {
      "image/png": "[encoded data removed]",
      "text/plain": [
       "<Figure size 432x288 with 1 Axes>"
      ]
     },
     "metadata": {},
     "output_type": "display_data"
    }
   ],
   "source": [
    "#RESEARCH CORRELATION BETWEEN POPULATION DENSITY AND MEAN PERCENT CHANGE IN HOME VALUES IN ZIPCODES WITH WINDFARMS \n",
    "#AND WITHOUT WINDFARMS\n",
    "\n",
    "#calculate pearson correlation coefficient\n",
    "df_corr2 = pd.DataFrame()\n",
    "df_corr2['wf_pop_density'] = df_m['pop_density_x']\n",
    "df_corr2['wf_mean'] = df_zc_wf['wf_mean']\n",
    "df_corr2['nwf_pop_density'] = df_m['pop_density_y']\n",
    "df_corr2['nwf_mean'] = df_zc_nwf['nwf_mean']\n",
    "\n",
    "print('zip codes with windfarm pop density corr coef: ' + str(np.corrcoef(df_corr2['wf_pop_density'], df_corr2['wf_mean'])))\n",
    "\n",
    "print('zip codes without windfarm pop density corr coef: ' + str(np.corrcoef(df_corr2['nwf_pop_density'], df_corr2['nwf_mean'])))\n",
    "\n",
    "#Plot population density versus %home value change for 2016 - 2018\n",
    "ax = df_corr2.plot(kind='scatter', x='wf_pop_density',y='wf_mean', color='b', label='windfarm pop density')\n",
    "df_corr2.plot(kind='scatter',x='nwf_pop_density',y='nwf_mean', color='g', label='no windfarm pop density', ax=ax)\n",
    "\n",
    "ax.set_xlabel('population density')\n",
    "ax.set_ylabel('% change in home values')\n",
    "plt.show()\n"
   ]
  },
  {
   "cell_type": "code",
   "execution_count": 9,
   "metadata": {},
   "outputs": [
    {
     "name": "stdout",
     "output_type": "stream",
     "text": [
      "zip codes with windfarm median household income corr coef: [[ 1.         -0.18776464]\n",
      " [-0.18776464  1.        ]]\n",
      "zip codes without windfarm median household income corr coef: [[ 1.         -0.41132661]\n",
      " [-0.41132661  1.        ]]\n"
     ]
    },
    {
     "data": {
      "image/png": "[encoded data removed]",
      "text/plain": [
       "<Figure size 432x288 with 1 Axes>"
      ]
     },
     "metadata": {},
     "output_type": "display_data"
    }
   ],
   "source": [
    "#RESEARCH CORRELATION BETWEEN MEDIAN HOUSEHOLD INCOME AND MEAN PERCENT CHANGE IN HOME VALUES IN ZIPCODES WITH WINDFARMS \n",
    "#AND WITHOUT WINDFARMS\n",
    "\n",
    "#calculate pearson correlation coefficient\n",
    "df_corr3 = pd.DataFrame()\n",
    "\n",
    "df_corr3['wf_med_household_income'] = df_m['med_household_income_x']\n",
    "df_corr3['wf_mean'] = df_zc_wf['wf_mean']\n",
    "\n",
    "df_corr3['nwf_med_household_income'] = df_m['med_household_income_y']\n",
    "df_corr3['nwf_mean'] = df_zc_nwf['nwf_mean']\n",
    "\n",
    "print('zip codes with windfarm median household income corr coef: ' + \n",
    "      str(np.corrcoef(df_corr3['wf_med_household_income'], df_corr3['wf_mean'])))\n",
    "\n",
    "print('zip codes without windfarm median household income corr coef: ' +\n",
    "      str(np.corrcoef(df_corr3['nwf_med_household_income'], df_corr3['nwf_mean'])))\n",
    "\n",
    "#Plot median household income versus %home value change for 2016 - 2018\n",
    "ax = df_corr3.plot(kind='scatter', x='wf_med_household_income',y='wf_mean', color='red', label='windfarm median household income')\n",
    "df_corr3.plot(kind='scatter',x='nwf_med_household_income',y='nwf_mean', color='black', label='no windfarm median household income', ax=ax)\n",
    "\n",
    "ax.set_xlabel('median household income')\n",
    "ax.set_ylabel('% change in home values')\n",
    "plt.show()\n"
   ]
  },
  {
   "cell_type": "markdown",
   "metadata": {},
   "source": [
    "<div class=\"span5 alert alert-success\">\n",
    "<p> ECDF of home value change (as a percentage) in zipcodes with wind farms and without wind farms </p>\n",
    "</div>"
   ]
  },
  {
   "cell_type": "code",
   "execution_count": 10,
   "metadata": {},
   "outputs": [
    {
     "data": {
      "image/png": "[encoded data removed]",
      "text/plain": [
       "<Figure size 432x288 with 1 Axes>"
      ]
     },
     "metadata": {},
     "output_type": "display_data"
    }
   ],
   "source": [
    "#ECDF USING THE YEAR 2017\n",
    "df_wf_e2017 = df_m['percent_2017_change_x']\n",
    "df_nwf_e2017 = df_m['percent_2017_change_y']\n",
    "\n",
    "#function to calculate ECDF\n",
    "def ecdf(data):\n",
    "    \"\"\"Compute ECDF for a one-dimensional array of measurements.\"\"\"\n",
    "    \n",
    "    n = len(data)\n",
    "    \n",
    "    x = np.sort(data)\n",
    "    \n",
    "    y = np.arange(1,n+1)/n\n",
    "    \n",
    "    return x, y\n",
    "\n",
    "# Compute ECDFs\n",
    "x_wf, y_wf = ecdf(df_wf_e2017)\n",
    "x_nwf,y_nwf = ecdf(df_nwf_e2017)\n",
    "\n",
    "# Plot all ECDFs on the same plot\n",
    "_ = plt.plot(x_wf,y_wf, marker ='.', linestyle='none')\n",
    "_ = plt.plot(x_nwf,y_nwf, marker ='.', linestyle='none')\n",
    "\n",
    "# Annotate the plot\n",
    "plt.legend(('zip code w/windfarm', 'zip code w/out windfarm'), loc='lower right')\n",
    "_ = plt.xlabel('% change in home value in 2017')\n",
    "_ = plt.ylabel('ECDF')\n",
    "\n",
    "# Display the plot\n",
    "plt.show()\n"
   ]
  },
  {
   "cell_type": "markdown",
   "metadata": {},
   "source": [
    "<div class=\"span5 alert alert-success\">\n",
    "<p> Plot a linear regression for CA zipcode 95391 which is a zipcode with a windfarm </p>\n",
    "</div>"
   ]
  },
  {
   "cell_type": "code",
   "execution_count": 11,
   "metadata": {},
   "outputs": [
    {
     "name": "stdout",
     "output_type": "stream",
     "text": [
      "slope (a) for zipcode 95391 in CA:  0.017185513701719883\n",
      "intercept (b) for zipcode 95391 in CA:  -0.012174395720681318\n"
     ]
    },
    {
     "data": {
      "image/png": "[encoded data removed]",
      "text/plain": [
       "<Figure size 432x288 with 1 Axes>"
      ]
     },
     "metadata": {},
     "output_type": "display_data"
    }
   ],
   "source": [
    "#Linear regression for zip code 95391 in CA with a windfarm\n",
    "df_lr = df_m.iloc[:, np.r_[1,24:33]]\n",
    "df_lr = df_lr[df_lr.wf_zipcode == 95391]\n",
    "\n",
    "df_lr.index = pd.Index(['value_change'],name='year')\n",
    "\n",
    "df_lrt = df_lr.T\n",
    "df_lrt = df_lrt.drop('wf_zipcode', axis=0)\n",
    "\n",
    "x = np.array([1,2,3,4,5,6,7,8,9])  #years 2009 - 2018\n",
    "y = df_lrt.iloc[:,0].values\n",
    "\n",
    "# Perform linear regression: a, b\n",
    "a, b = np.polyfit(x,y,1)\n",
    "\n",
    "# Print the slope and intercept\n",
    "#print('slope: ' + str(a))\n",
    "#print('intercept: ' + str(b))\n",
    "\n",
    "# Plot the illiteracy rate versus fertility\n",
    "_ = plt.plot(x, y, marker='.', linestyle='none')\n",
    "plt.margins(0.02)\n",
    "_ = plt.xlabel('Years')\n",
    "_ = plt.ylabel('Change in Value')\n",
    "\n",
    "# Perform a linear regression using np.polyfit(): a, b\n",
    "a, b = np.polyfit(x,y, 1)\n",
    "\n",
    "# Print the results to the screen\n",
    "print('slope (a) for zipcode 95391 in CA: ', a)\n",
    "print('intercept (b) for zipcode 95391 in CA: ', b)\n",
    "\n",
    "# Make theoretical line to plot\n",
    "x = np.array([0, 9])\n",
    "y = a * x + b\n",
    "\n",
    "# Add regression line to your plot\n",
    "_ = plt.plot(x, y)\n",
    "\n",
    "# Draw the plot\n",
    "plt.show()\n"
   ]
  },
  {
   "cell_type": "markdown",
   "metadata": {},
   "source": [
    "<div class=\"span5 alert alert-success\">\n",
    "<p> Plot a linear regression for CA zipcode 94550 which is a zipcode 25 miles away that does not have a windfarm </p>\n",
    "</div>"
   ]
  },
  {
   "cell_type": "code",
   "execution_count": 12,
   "metadata": {},
   "outputs": [
    {
     "name": "stdout",
     "output_type": "stream",
     "text": [
      "slope (a) for zipcode 94550 in CA:  0.009266966968780507\n",
      "intercept (b) for zipcode 94550 in CA:  0.03705137056071288\n"
     ]
    },
    {
     "data": {
      "image/png": "[encoded data removed]",
      "text/plain": [
       "<Figure size 432x288 with 1 Axes>"
      ]
     },
     "metadata": {},
     "output_type": "display_data"
    }
   ],
   "source": [
    "#Linear regression for zip code 94550 in CA with a windfarm\n",
    "df_lr = df_m.iloc[:, np.r_[1,56:65]]\n",
    "df_lr = df_lr[df_lr.wf_zipcode == 95391]\n",
    "\n",
    "df_lr.index = pd.Index(['value_change'],name='year')\n",
    "df_lrt = df_lr.T\n",
    "df_lrt = df_lrt.drop('wf_zipcode', axis=0)\n",
    "\n",
    "x = np.array([1,2,3,4,5,6,7,8,9])  #years 2009 - 2018\n",
    "y = df_lrt.iloc[:,0].values\n",
    "\n",
    "# Plot the illiteracy rate versus fertility\n",
    "_ = plt.plot(x, y, marker='.', linestyle='none')\n",
    "plt.margins(0.02)\n",
    "_ = plt.xlabel('Years')\n",
    "_ = plt.ylabel('Change in Value')\n",
    "\n",
    "# Perform a linear regression using np.polyfit(): a, b\n",
    "a, b = np.polyfit(x,y, 1)\n",
    "\n",
    "# Print the results to the screen\n",
    "print('slope (a) for zipcode 94550 in CA: ', a)\n",
    "print('intercept (b) for zipcode 94550 in CA: ', b)\n",
    "\n",
    "# Make theoretical line to plot\n",
    "x = np.array([0, 9])\n",
    "y = a * x + b\n",
    "\n",
    "# Add regression line to your plot\n",
    "_ = plt.plot(x, y)\n",
    "\n",
    "# Draw the plot\n",
    "plt.show()\n"
   ]
  },
  {
   "cell_type": "markdown",
   "metadata": {},
   "source": [
    "<div class=\"span5 alert alert-success\">\n",
    "<p> Compute p-values and confidence intervals for zip codes with and zip codes without wind farms. </p>\n",
    "</div>"
   ]
  },
  {
   "cell_type": "code",
   "execution_count": 13,
   "metadata": {},
   "outputs": [],
   "source": [
    "#1 of 5: DETERMINE IF THE MEAN HOME VALUE FOR ZIPCODES WITH WINDFARMS IS A STATISTICALLY SIGNIFICANT DIFFERENCE FROM THE MEAN\n",
    "#VALUE OF ZIPCODES WITHOUT A WINDFARM\n",
    "\n",
    "#Hypothesis\n",
    "#H0: average mean home value for zipcodes with windfarms < mean home value for zipcodes without windfarms\n",
    "#H1: average mean home value for zipcodes with windfarms >= mean home value for zipcoes without windfarms"
   ]
  },
  {
   "cell_type": "code",
   "execution_count": 14,
   "metadata": {},
   "outputs": [
    {
     "name": "stdout",
     "output_type": "stream",
     "text": [
      "Mean home value for zipcodes with windfarms: 360620.0\n"
     ]
    },
    {
     "data": {
      "image/png": "[encoded data removed]",
      "text/plain": [
       "<Figure size 432x288 with 1 Axes>"
      ]
     },
     "metadata": {},
     "output_type": "display_data"
    }
   ],
   "source": [
    "#2 of 5: Quartile plot for zipcodes with windfarms using 2017 home value data\n",
    "\n",
    "df_wf = df_m[['2017-01_x']]\n",
    "print('Mean home value for zipcodes with windfarms: ' + str(np.mean(df_wf['2017-01_x'])))\n",
    "\n",
    "#Visually look for a normal distribution via a Quartile Plot\n",
    "mean = np.mean(df_wf['2017-01_x'])\n",
    "sd = np.std(df_wf['2017-01_x'])\n",
    "z = (df_wf['2017-01_x'] - mean) / sd\n",
    "sm.qqplot(z, line='45')\n",
    "\n",
    "plt.show()\n"
   ]
  },
  {
   "cell_type": "code",
   "execution_count": 15,
   "metadata": {},
   "outputs": [
    {
     "name": "stdout",
     "output_type": "stream",
     "text": [
      "Mean home value for zipcodes without windfarms: 402090.0\n"
     ]
    },
    {
     "data": {
      "image/png": "[encoded data removed]",
      "text/plain": [
       "<Figure size 432x288 with 1 Axes>"
      ]
     },
     "metadata": {},
     "output_type": "display_data"
    }
   ],
   "source": [
    "#3 of 5: Quartile plot for zipcodes without windfarms using 2017 home value data\n",
    "\n",
    "df_nwf = df_m[['2017-01_y']]\n",
    "\n",
    "print('Mean home value for zipcodes without windfarms: ' + str(np.mean(df_nwf['2017-01_y'])))\n",
    "\n",
    "#Visually look for a normal distribution via a Quartile Plot\n",
    "mean = np.mean(df_nwf['2017-01_y'])\n",
    "sd = np.std(df_nwf['2017-01_y'])\n",
    "z = (df_nwf['2017-01_y'] - mean) / sd\n",
    "sm.qqplot(z, line='45',color='green')\n",
    "\n",
    "plt.show()\n"
   ]
  },
  {
   "cell_type": "code",
   "execution_count": 16,
   "metadata": {},
   "outputs": [
    {
     "name": "stdout",
     "output_type": "stream",
     "text": [
      "[272400. 362900. 496700. 395800. 318900. 226300. 204900. 226600. 220100.\n",
      " 234100. 624700. 225900. 181700. 361100. 206700. 196600. 858000. 634400.\n",
      " 461100. 503500.]\n",
      "[ 286800.  317400.  366900.  585100.  210000.  336000.  263900.  521700.\n",
      "  300900.  235300.  677900.  257800.  261900.  291100.  287800.  231500.\n",
      " 1331400.  212800.  341700.  723900.]\n"
     ]
    }
   ],
   "source": [
    "#4a of 5: Calculate p-value - obtain the 2017 home values and create arrays\n",
    "\n",
    "zcwf = df_wf.iloc[:,0].values\n",
    "zcnwf = df_nwf.iloc[:,0].values\n",
    "\n",
    "print(zcwf)\n",
    "print(zcnwf)"
   ]
  },
  {
   "cell_type": "code",
   "execution_count": 17,
   "metadata": {},
   "outputs": [],
   "source": [
    "#4b of 5: Calculate p-value\n",
    "\n",
    "#Function Difference of Means\n",
    "def diff_of_means(data_1, data_2,size):\n",
    "    \n",
    "    diff = np.mean(data_1) - np.mean(data_2)\n",
    "\n",
    "    return diff\n",
    "\n",
    "#Function Permutation Sample function\n",
    "def permutation_sample(data1, data2):\n",
    "    # Concatenate the data sets: data\n",
    "    data = np.concatenate((data1, data2))\n",
    "\n",
    "    # Permute the concatenated array: permuted_data\n",
    "    permuted_data = np.random.permutation(data)\n",
    "\n",
    "    # Split the permuted array into two: perm_sample_1, perm_sample_2\n",
    "    perm_sample_1 = permuted_data[:len(data1)]\n",
    "    perm_sample_2 = permuted_data[len(data1):]\n",
    "\n",
    "    return perm_sample_1, perm_sample_2\n",
    "\n",
    "#Function for Permutation Replicates\n",
    "def draw_perm_reps(data_1, data_2, func, size):\n",
    "    \n",
    "    # Initialize array of replicates: perm_replicates\n",
    "    perm_replicates = np.empty(size)\n",
    "\n",
    "    for i in range(size):\n",
    "        # Generate permutation sample\n",
    "        perm_sample_1, perm_sample_2 = permutation_sample(data_1,data_2)\n",
    "\n",
    "        # Compute the test statistic\n",
    "        perm_replicates[i] = func(perm_sample_1,perm_sample_2,size=size)\n",
    "        \n",
    "        return perm_replicates"
   ]
  },
  {
   "cell_type": "code",
   "execution_count": 18,
   "metadata": {},
   "outputs": [
    {
     "name": "stdout",
     "output_type": "stream",
     "text": [
      "Mean home value for zipcodes with windfarms: 360620.0\n",
      "Mean home value for zipcodes without windfarms: 402090.0\n",
      "p-value = 0.9916\n"
     ]
    }
   ],
   "source": [
    "#4c of 5: Calculating the p-value\n",
    "\n",
    "# Compute difference of mean\n",
    "empirical_diff_means = diff_of_means(zcwf, zcnwf,1)\n",
    "\n",
    "# Draw 10,000 permutation replicates\n",
    "perm_replicates = draw_perm_reps(zcwf, zcnwf,\n",
    "                                 diff_of_means, size=10000)\n",
    "\n",
    "# Compute p-value: p\n",
    "p = np.sum(perm_replicates >= empirical_diff_means) / len(perm_replicates)\n",
    "\n",
    "# Print results\n",
    "print('Mean home value for zipcodes with windfarms: ' + str(np.mean(df_wf['2017-01_x'])))\n",
    "print('Mean home value for zipcodes without windfarms: ' + str(np.mean(df_nwf['2017-01_y'])))\n",
    "print('p-value =', p)\n"
   ]
  },
  {
   "cell_type": "code",
   "execution_count": 19,
   "metadata": {},
   "outputs": [],
   "source": [
    "#5a of 5: Calculate a confidence interval\n",
    "\n",
    "#Function to return a value using Bootstrap Replicates\n",
    "def bootstrap_replicate_1d(data,func):\n",
    "    bs_sample = np.random.choice(data,size=len(data))\n",
    "    return func(bs_sample)\n",
    "\n",
    "#Function to define many bootstrap replicates\n",
    "def draw_bs_reps(data, func, size=10000):\n",
    "    # Initialize array of replicates: bs_replicates\n",
    "    bs_replicates = np.empty(size)\n",
    "\n",
    "    # Generate replicates\n",
    "    for i in range(size):\n",
    "        bs_replicates[i] = bootstrap_replicate_1d(data,func)\n",
    "\n",
    "    return bs_replicates\n"
   ]
  },
  {
   "cell_type": "code",
   "execution_count": 20,
   "metadata": {},
   "outputs": [
    {
     "name": "stdout",
     "output_type": "stream",
     "text": [
      "difference of means = 41470.0\n",
      "95% confidence interval = [-86669.5 185072.5]\n"
     ]
    }
   ],
   "source": [
    "#5b of 5: Calculate a confidence interval\n",
    "\n",
    "# Compute 95% confidence interval: conf_int\n",
    "\n",
    "# Compute the difference of the sample means\n",
    "mean_diff = np.mean(zcnwf) - np.mean(zcwf)\n",
    "\n",
    "# Get bootstrap replicates of means\n",
    "bs_replicates_zcnwf = draw_bs_reps(zcnwf, np.mean, 10000)\n",
    "bs_replicates_zcwf = draw_bs_reps(zcwf, np.mean, 10000)\n",
    "\n",
    "# Compute samples of difference of means:\n",
    "bs_diff_replicates = bs_replicates_zcnwf - bs_replicates_zcwf\n",
    "\n",
    "# Compute 95% confidence interval: conf_int\n",
    "conf_int = np.percentile(bs_diff_replicates, [2.5, 97.5])\n",
    "\n",
    "# Print the results\n",
    "print('difference of means =', mean_diff)\n",
    "print('95% confidence interval =', conf_int)\n"
   ]
  }
 ],
 "metadata": {
  "kernelspec": {
   "display_name": "Python 3",
   "language": "python",
   "name": "python3"
  },
  "language_info": {
   "codemirror_mode": {
    "name": "ipython",
    "version": 3
   },
   "file_extension": ".py",
   "mimetype": "text/x-python",
   "name": "python",
   "nbconvert_exporter": "python",
   "pygments_lexer": "ipython3",
   "version": "3.6.5"
  }
 },
 "nbformat": 4,
 "nbformat_minor": 2
}
